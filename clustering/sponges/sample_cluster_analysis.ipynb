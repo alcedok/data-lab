{
 "cells": [
  {
   "cell_type": "code",
   "execution_count": 3,
   "metadata": {
    "collapsed": false
   },
   "outputs": [
    {
     "data": {
      "text/html": [
       "<style>.container { width:100% !important; }</style>"
      ],
      "text/plain": [
       "<IPython.core.display.HTML object>"
      ]
     },
     "metadata": {},
     "output_type": "display_data"
    }
   ],
   "source": [
    "import pandas as pd \n",
    "pd.set_option('display.max_columns', None)\n",
    "pd.set_option('display.max_rows', None)\n",
    "pd.set_option('display.width', None)\n",
    "pd.set_option('display.max_seq_items', None)\n",
    "\n",
    "import numpy as np\n",
    "\n",
    "from IPython.display import display\n",
    "from IPython.core.display import HTML\n",
    "display(HTML(\"<style>.container { width:100% !important; }</style>\"))"
   ]
  },
  {
   "cell_type": "code",
   "execution_count": null,
   "metadata": {
    "collapsed": false
   },
   "outputs": [],
   "source": []
  },
  {
   "cell_type": "code",
   "execution_count": 4,
   "metadata": {
    "collapsed": false
   },
   "outputs": [],
   "source": [
    "# first column are labels, the rest are features \n",
    "col_names = ['LABELS']+['A.CAPAS_DEL_CORTEX','A.CAPA_INTERNA_DEL_CORTEX','A.CORTEX','A.CORTEX_FIBROSO',\n",
    "'A.CORTEX_SOLO_DE_ESPICULAS_TANGENCIALES','A.CUERPOS_EXTRANOS_EN_EL_CORTEX','A.GROSOR_DEL_CORTEX',\n",
    "'A.HACES_DE_ESPICULAS_PRINCIPALES_EN_POMPON_EN_EL_CORTEX','A.TILOSTILOS_ADICIONALES_COANOSOMA',\n",
    "'B.NUMERO_DE_TIPOS_DE_MEGASCLERAS','C.TIPO_ESPICULA_PRINCIPAL_DIACTINA_TUBERCULADA','C.TIPO_ESPICULA_PRINCIPAL_ESTILO',\n",
    "'C.TIPO_ESPICULA_PRINCIPAL_ESTILOS_2_TAMANOS','C.TIPO_ESPICULA_PRINCIPAL_ESTILO_TILOSTILO','C.TIPO_ESPICULA_PRINCIPAL_ESTRONGILOXA',\n",
    "'C.TIPO_ESPICULA_PRINCIPAL_OXAS','C.TIPO_ESPICULA_PRINCIPAL_TILOSTILO','D.ESPICULA_PRINCIPAL_ESTILO','D.ESPICULA_PRINCIPAL_TILOSTILO',\n",
    "'D.FORMA_BASE_TILOSTILO_PRINCIPAL','E.DISPOSICION_MEGASCLERAS_ECTOSOMICAS_EN_EL_ECTOSOMA','E.FORMA_BASE_TILOSTILO_ECTOSOMICO',\n",
    "'E.FORMA_MEGASCLERA_ECTOSOMICA','E.TIPO_MEGASCLERA_ECTOSOMICA','F.TIPO_DE_EXOSTILO','G.FORMA_MEGASCLERA_INTERMEDIARIA',\n",
    "'G.TIPO_MEGASCLERA_INTERMEDIARIA','H.LONGITUD_MEGASCLERAS','I.MICROSCLERAS','I.TIPO_MICROSCLERA','J.ASTER',\n",
    "'J.DIAMETRO_ESFERASTER','J.TIPO_DE_ASTER','J.TIPO_DE_DIPLASTER','J.TIPO_DE_ESFERASTER','K.FORMA_FINAL','L.NUMERO_DE_PAPILAS',\n",
    "'L.PAPILAS','M.COLOR ','N.SUPERFICIE','O.DISPOSICION_ESPICULAR_ESQUELETO','P.ALOJA_CANGREJO_ERMITANO','P.PERFORANTE',\n",
    "'P.PSEUDORAICES','P.SUSTRATO']\n",
    "\n",
    "classes = { 'class_01':set(['TYLEXOCLADUS_JOUBINI', 'TRACHYTELEIA_STEPHENSI', 'TENTORIUM_SEMISUBERITES', 'TENTORIUM_PAPILLATUS', 'SUBERITES_CAMINATUS', 'SPINULARIA_SPINULARIA', 'AAPTOS_AAPTOS'])\n",
    "           ,'class_02':set(['SPIRASTRELLA_MINAX', 'SPIRASTRELLA_CUNCTATRIX', 'LAXOSUBERITES_ECTYONIMUS', 'DIPLASTRELLA_ORNATA', 'DIPLASTRELLA_BISTELLATA', 'CLIONA_SCHMIDTI', 'CLIONA_LABYRINTHICA', 'CLIONA_CELATA', 'CLIONA_CARTERI', 'ALECTONA_MILLARI']\n",
    "           ),'class_03':set(['CLIONA_VIRIDIS']\n",
    "           ),'class_04':set(['TERPIOS_FUGAX', 'SUBERITES_GIBBOSICEPS', 'SUBERITES_CARNOSUS_V.TYPICUS', 'SUBERITES_CARNOSUS_V.RAMOSUS', 'SUBERITES_CARNOSUS_V.INCRUSTANS', 'RHIZAXINELLA_UNISETA', 'RHIZAXINELLA_PYRIFERA', 'RHIZAXINELLA_ELONGATA', 'RHIZAXINELLA_BISETA', 'PSEUDOSUBERITES_SULFUREUS', 'PSEUDOSUBERITES_HYALINUS', 'PROSUBERITES_RUGOSUS', 'PROSUBERITES_LONGISPINA', 'PROSUBERITES_EPIPHYTUM', 'LAXOSUBERITES_RUGOSUS', 'LAXOSUBERITES_FERRERHERNANDEZI']\n",
    "           ),'class_05':set(['STYLOCORDYLA_BOREALIS','OXYCORDYLA_PELLITA']\n",
    "           ),'class_06':set(['SPHAEROTYLUS_CAPITATUS', 'PROTELEIA_SOLLASI', 'POLYMASTIA_UBERRIMA', 'POLYMASTIA_TENAX', 'POLYMASTIA_SPINULA', 'POLYMASTIA_ROBUSTA', 'POLYMASTIA_RADIOSA', 'POLYMASTIA_POLYTYLOTA', 'POLYMASTIA_MAMMILLARIS', 'POLYMASTIA_LITTORALIS', 'POLYMASTIA_INVAGINATA', 'POLYMASTIA_INFLATA', 'POLYMASTIA_HIRSUTA', 'POLYMASTIA_CORTICATA', 'POLYMASTIA_CONIGERA', 'POLYMASTIA_AGGLUTINARI']\n",
    "           ),'class_07':set(['SPHAEROTYLUS_ANTARCTICUS', 'POLYMASTIA_TISSIERI', 'POLYMASTIA_MARTAE', 'POLYMASTIA_INFRAPILOSA', 'POLYMASTIA_GRIMALDI', 'POLYMASTIA_FUSCA', 'POLYMASTIA_ECTOFIBROSA']\n",
    "           ),'class_08':set(['WEBERELLA_VERRUCOSA', 'WEBERELLA_BURSA', 'RIDLEYA_OVIFORMIS', 'QUASILINA_RICHARDII', 'QUASILINA_INTERMEDIA', 'QUASILINA_BREVIS']\n",
    "           ),'class_09':set(['SUBERITES_FICUS','SUBERITES_DOMUNCULA']\n",
    "           ),'class_10':set(['TETHYA_CITRINA','TETHYA_AURANTIUM' ]\n",
    "           ),'class_11':set(['TIMEA_UNISTELLATA', 'TIMEA_STELLATA', 'TIMEA_MIXTA', 'TIMEA_HALLEZI', 'TIMEA_CHONDRILLOIDES']\n",
    "           ),'class_12':set(['TRICHOSTEMA_SARSI','TRICHOSTEMA_HEMISPHAERICUM'])\n",
    "          \n",
    "          }\n"
   ]
  },
  {
   "cell_type": "code",
   "execution_count": 5,
   "metadata": {
    "collapsed": false
   },
   "outputs": [
    {
     "data": {
      "text/plain": [
       "(76, 46)"
      ]
     },
     "execution_count": 5,
     "metadata": {},
     "output_type": "execute_result"
    }
   ],
   "source": [
    "path_to_data = '/Users/Kevin/Documents/sample_datasets/sponges.csv'\n",
    "raw_data = pd.read_csv(path_to_data, na_values=' ',keep_default_na=False,header=None,names=col_names)\n",
    "raw_data.shape"
   ]
  },
  {
   "cell_type": "code",
   "execution_count": 6,
   "metadata": {
    "collapsed": false
   },
   "outputs": [
    {
     "data": {
      "text/html": [
       "<div>\n",
       "<table border=\"1\" class=\"dataframe\">\n",
       "  <thead>\n",
       "    <tr style=\"text-align: right;\">\n",
       "      <th></th>\n",
       "      <th>LABELS</th>\n",
       "      <th>A.CAPAS_DEL_CORTEX</th>\n",
       "      <th>A.CAPA_INTERNA_DEL_CORTEX</th>\n",
       "      <th>A.CORTEX</th>\n",
       "      <th>A.CORTEX_FIBROSO</th>\n",
       "      <th>A.CORTEX_SOLO_DE_ESPICULAS_TANGENCIALES</th>\n",
       "      <th>A.CUERPOS_EXTRANOS_EN_EL_CORTEX</th>\n",
       "      <th>A.GROSOR_DEL_CORTEX</th>\n",
       "      <th>A.HACES_DE_ESPICULAS_PRINCIPALES_EN_POMPON_EN_EL_CORTEX</th>\n",
       "      <th>A.TILOSTILOS_ADICIONALES_COANOSOMA</th>\n",
       "      <th>B.NUMERO_DE_TIPOS_DE_MEGASCLERAS</th>\n",
       "      <th>C.TIPO_ESPICULA_PRINCIPAL_DIACTINA_TUBERCULADA</th>\n",
       "      <th>C.TIPO_ESPICULA_PRINCIPAL_ESTILO</th>\n",
       "      <th>C.TIPO_ESPICULA_PRINCIPAL_ESTILOS_2_TAMANOS</th>\n",
       "      <th>C.TIPO_ESPICULA_PRINCIPAL_ESTILO_TILOSTILO</th>\n",
       "      <th>C.TIPO_ESPICULA_PRINCIPAL_ESTRONGILOXA</th>\n",
       "      <th>C.TIPO_ESPICULA_PRINCIPAL_OXAS</th>\n",
       "      <th>C.TIPO_ESPICULA_PRINCIPAL_TILOSTILO</th>\n",
       "      <th>D.ESPICULA_PRINCIPAL_ESTILO</th>\n",
       "      <th>D.ESPICULA_PRINCIPAL_TILOSTILO</th>\n",
       "      <th>D.FORMA_BASE_TILOSTILO_PRINCIPAL</th>\n",
       "      <th>E.DISPOSICION_MEGASCLERAS_ECTOSOMICAS_EN_EL_ECTOSOMA</th>\n",
       "      <th>E.FORMA_BASE_TILOSTILO_ECTOSOMICO</th>\n",
       "      <th>E.FORMA_MEGASCLERA_ECTOSOMICA</th>\n",
       "      <th>E.TIPO_MEGASCLERA_ECTOSOMICA</th>\n",
       "      <th>F.TIPO_DE_EXOSTILO</th>\n",
       "      <th>G.FORMA_MEGASCLERA_INTERMEDIARIA</th>\n",
       "      <th>G.TIPO_MEGASCLERA_INTERMEDIARIA</th>\n",
       "      <th>H.LONGITUD_MEGASCLERAS</th>\n",
       "      <th>I.MICROSCLERAS</th>\n",
       "      <th>I.TIPO_MICROSCLERA</th>\n",
       "      <th>J.ASTER</th>\n",
       "      <th>J.DIAMETRO_ESFERASTER</th>\n",
       "      <th>J.TIPO_DE_ASTER</th>\n",
       "      <th>J.TIPO_DE_DIPLASTER</th>\n",
       "      <th>J.TIPO_DE_ESFERASTER</th>\n",
       "      <th>K.FORMA_FINAL</th>\n",
       "      <th>L.NUMERO_DE_PAPILAS</th>\n",
       "      <th>L.PAPILAS</th>\n",
       "      <th>M.COLOR</th>\n",
       "      <th>N.SUPERFICIE</th>\n",
       "      <th>O.DISPOSICION_ESPICULAR_ESQUELETO</th>\n",
       "      <th>P.ALOJA_CANGREJO_ERMITANO</th>\n",
       "      <th>P.PERFORANTE</th>\n",
       "      <th>P.PSEUDORAICES</th>\n",
       "      <th>P.SUSTRATO</th>\n",
       "    </tr>\n",
       "  </thead>\n",
       "  <tbody>\n",
       "    <tr>\n",
       "      <th>0</th>\n",
       "      <td>AAPTOS_AAPTOS</td>\n",
       "      <td>1_CAPA</td>\n",
       "      <td>SIN_CAPA_INTERNA_DEL_CORTEX</td>\n",
       "      <td>SI</td>\n",
       "      <td>NO</td>\n",
       "      <td>NO</td>\n",
       "      <td>NO</td>\n",
       "      <td>3</td>\n",
       "      <td>NO</td>\n",
       "      <td>SIN_TILOSTILOS_ADICIONALES</td>\n",
       "      <td>1_TIPO</td>\n",
       "      <td>NO</td>\n",
       "      <td>NO</td>\n",
       "      <td>NO</td>\n",
       "      <td>NO</td>\n",
       "      <td>SI</td>\n",
       "      <td>NO</td>\n",
       "      <td>NO</td>\n",
       "      <td>SIN_ESPICULA_PRINCIPAL_ESTILO</td>\n",
       "      <td>SIN_ESPICULA_PRINCIPAL_TILOSTILO_</td>\n",
       "      <td>SIN_TILOSTILOS</td>\n",
       "      <td>EMPALIZADA</td>\n",
       "      <td>SUBESFERICA_ALARGADA_OVOIDE</td>\n",
       "      <td>RECTA_FUSIFORME</td>\n",
       "      <td>ESTILO</td>\n",
       "      <td>SIN_EXOSTILOS</td>\n",
       "      <td>SIN_MEGASCLERA_INTERMEDIARIA</td>\n",
       "      <td>SIN_MEGASCLERA_INTERMEDIARIA</td>\n",
       "      <td>3</td>\n",
       "      <td>NO</td>\n",
       "      <td>SIN_MICROSCLERAS</td>\n",
       "      <td>NO</td>\n",
       "      <td>SIN_ESFERASTER</td>\n",
       "      <td>SIN_ASTER</td>\n",
       "      <td>SIN_DIPLASTERES</td>\n",
       "      <td>SIN_ESFERASTER</td>\n",
       "      <td>MASIVO_IRREGULAR</td>\n",
       "      <td>0</td>\n",
       "      <td>NO</td>\n",
       "      <td>OTROS</td>\n",
       "      <td>RUGOSA</td>\n",
       "      <td>RADIAL</td>\n",
       "      <td>NO</td>\n",
       "      <td>NO</td>\n",
       "      <td>NO</td>\n",
       "      <td>DURO</td>\n",
       "    </tr>\n",
       "    <tr>\n",
       "      <th>1</th>\n",
       "      <td>ALECTONA_MILLARI</td>\n",
       "      <td>SIN_CORTEX</td>\n",
       "      <td>SIN_CAPA_INTERNA_DEL_CORTEX</td>\n",
       "      <td>NO</td>\n",
       "      <td>SIN_CORTEX</td>\n",
       "      <td>SIN_CORTEX</td>\n",
       "      <td>SIN_CORTEX</td>\n",
       "      <td>0</td>\n",
       "      <td>NO</td>\n",
       "      <td>SIN_TILOSTILOS_ADICIONALES</td>\n",
       "      <td>1_TIPO</td>\n",
       "      <td>SI</td>\n",
       "      <td>NO</td>\n",
       "      <td>NO</td>\n",
       "      <td>NO</td>\n",
       "      <td>NO</td>\n",
       "      <td>NO</td>\n",
       "      <td>NO</td>\n",
       "      <td>SIN_ESPICULA_PRINCIPAL_ESTILO</td>\n",
       "      <td>SIN_ESPICULA_PRINCIPAL_TILOSTILO_</td>\n",
       "      <td>SIN_TILOSTILOS</td>\n",
       "      <td>SIN_MEGASCLERAS_ECTOSOMICAS</td>\n",
       "      <td>SIN_TILOSTILO_ECTOSOMICO</td>\n",
       "      <td>SIN_MEGASCLERA_ECTOSOMICA</td>\n",
       "      <td>SIN_MEGASCLERA_ECTOSOMICA</td>\n",
       "      <td>SIN_EXOSTILOS</td>\n",
       "      <td>SIN_MEGASCLERA_INTERMEDIARIA</td>\n",
       "      <td>SIN_MEGASCLERA_INTERMEDIARIA</td>\n",
       "      <td>1</td>\n",
       "      <td>SI</td>\n",
       "      <td>ASTER</td>\n",
       "      <td>SI</td>\n",
       "      <td>SIN_ESFERASTER</td>\n",
       "      <td>ANFIASTER</td>\n",
       "      <td>SIN_DIPLASTERES</td>\n",
       "      <td>SIN_ESFERASTER</td>\n",
       "      <td>INCRUSTANTE</td>\n",
       "      <td>0</td>\n",
       "      <td>NO</td>\n",
       "      <td>?</td>\n",
       "      <td>LISA</td>\n",
       "      <td>CONFUSA</td>\n",
       "      <td>NO</td>\n",
       "      <td>SI</td>\n",
       "      <td>NO</td>\n",
       "      <td>DURO</td>\n",
       "    </tr>\n",
       "    <tr>\n",
       "      <th>2</th>\n",
       "      <td>CLIONA_CARTERI</td>\n",
       "      <td>SIN_CORTEX</td>\n",
       "      <td>SIN_CAPA_INTERNA_DEL_CORTEX</td>\n",
       "      <td>NO</td>\n",
       "      <td>SIN_CORTEX</td>\n",
       "      <td>SIN_CORTEX</td>\n",
       "      <td>SIN_CORTEX</td>\n",
       "      <td>0</td>\n",
       "      <td>NO</td>\n",
       "      <td>SIN_TILOSTILOS_ADICIONALES</td>\n",
       "      <td>1_TIPO</td>\n",
       "      <td>NO</td>\n",
       "      <td>NO</td>\n",
       "      <td>NO</td>\n",
       "      <td>NO</td>\n",
       "      <td>NO</td>\n",
       "      <td>SI</td>\n",
       "      <td>SI</td>\n",
       "      <td>SIN_ESPICULA_PRINCIPAL_ESTILO</td>\n",
       "      <td>FUSIFORME</td>\n",
       "      <td>SUBESFERICA_ALARGADA_OVOIDE</td>\n",
       "      <td>SIN_MEGASCLERAS_ECTOSOMICAS</td>\n",
       "      <td>SIN_TILOSTILO_ECTOSOMICO</td>\n",
       "      <td>SIN_MEGASCLERA_ECTOSOMICA</td>\n",
       "      <td>SIN_MEGASCLERA_ECTOSOMICA</td>\n",
       "      <td>SIN_EXOSTILOS</td>\n",
       "      <td>SIN_MEGASCLERA_INTERMEDIARIA</td>\n",
       "      <td>SIN_MEGASCLERA_INTERMEDIARIA</td>\n",
       "      <td>1</td>\n",
       "      <td>SI</td>\n",
       "      <td>ASTER</td>\n",
       "      <td>SI</td>\n",
       "      <td>SIN_ESFERASTER</td>\n",
       "      <td>ESPIRASTER</td>\n",
       "      <td>SIN_DIPLASTERES</td>\n",
       "      <td>SIN_ESFERASTER</td>\n",
       "      <td>INCRUSTANTE</td>\n",
       "      <td>1</td>\n",
       "      <td>SI</td>\n",
       "      <td>OTROS</td>\n",
       "      <td>LISA</td>\n",
       "      <td>CONFUSA</td>\n",
       "      <td>NO</td>\n",
       "      <td>SI</td>\n",
       "      <td>NO</td>\n",
       "      <td>DURO</td>\n",
       "    </tr>\n",
       "  </tbody>\n",
       "</table>\n",
       "</div>"
      ],
      "text/plain": [
       "             LABELS A.CAPAS_DEL_CORTEX    A.CAPA_INTERNA_DEL_CORTEX A.CORTEX  \\\n",
       "0     AAPTOS_AAPTOS             1_CAPA  SIN_CAPA_INTERNA_DEL_CORTEX       SI   \n",
       "1  ALECTONA_MILLARI         SIN_CORTEX  SIN_CAPA_INTERNA_DEL_CORTEX       NO   \n",
       "2    CLIONA_CARTERI         SIN_CORTEX  SIN_CAPA_INTERNA_DEL_CORTEX       NO   \n",
       "\n",
       "  A.CORTEX_FIBROSO A.CORTEX_SOLO_DE_ESPICULAS_TANGENCIALES  \\\n",
       "0               NO                                      NO   \n",
       "1       SIN_CORTEX                              SIN_CORTEX   \n",
       "2       SIN_CORTEX                              SIN_CORTEX   \n",
       "\n",
       "  A.CUERPOS_EXTRANOS_EN_EL_CORTEX  A.GROSOR_DEL_CORTEX  \\\n",
       "0                              NO                    3   \n",
       "1                      SIN_CORTEX                    0   \n",
       "2                      SIN_CORTEX                    0   \n",
       "\n",
       "  A.HACES_DE_ESPICULAS_PRINCIPALES_EN_POMPON_EN_EL_CORTEX  \\\n",
       "0                                                 NO        \n",
       "1                                                 NO        \n",
       "2                                                 NO        \n",
       "\n",
       "  A.TILOSTILOS_ADICIONALES_COANOSOMA B.NUMERO_DE_TIPOS_DE_MEGASCLERAS  \\\n",
       "0         SIN_TILOSTILOS_ADICIONALES                           1_TIPO   \n",
       "1         SIN_TILOSTILOS_ADICIONALES                           1_TIPO   \n",
       "2         SIN_TILOSTILOS_ADICIONALES                           1_TIPO   \n",
       "\n",
       "  C.TIPO_ESPICULA_PRINCIPAL_DIACTINA_TUBERCULADA  \\\n",
       "0                                             NO   \n",
       "1                                             SI   \n",
       "2                                             NO   \n",
       "\n",
       "  C.TIPO_ESPICULA_PRINCIPAL_ESTILO  \\\n",
       "0                               NO   \n",
       "1                               NO   \n",
       "2                               NO   \n",
       "\n",
       "  C.TIPO_ESPICULA_PRINCIPAL_ESTILOS_2_TAMANOS  \\\n",
       "0                                          NO   \n",
       "1                                          NO   \n",
       "2                                          NO   \n",
       "\n",
       "  C.TIPO_ESPICULA_PRINCIPAL_ESTILO_TILOSTILO  \\\n",
       "0                                         NO   \n",
       "1                                         NO   \n",
       "2                                         NO   \n",
       "\n",
       "  C.TIPO_ESPICULA_PRINCIPAL_ESTRONGILOXA C.TIPO_ESPICULA_PRINCIPAL_OXAS  \\\n",
       "0                                     SI                             NO   \n",
       "1                                     NO                             NO   \n",
       "2                                     NO                             SI   \n",
       "\n",
       "  C.TIPO_ESPICULA_PRINCIPAL_TILOSTILO    D.ESPICULA_PRINCIPAL_ESTILO  \\\n",
       "0                                  NO  SIN_ESPICULA_PRINCIPAL_ESTILO   \n",
       "1                                  NO  SIN_ESPICULA_PRINCIPAL_ESTILO   \n",
       "2                                  SI  SIN_ESPICULA_PRINCIPAL_ESTILO   \n",
       "\n",
       "      D.ESPICULA_PRINCIPAL_TILOSTILO D.FORMA_BASE_TILOSTILO_PRINCIPAL  \\\n",
       "0  SIN_ESPICULA_PRINCIPAL_TILOSTILO_                   SIN_TILOSTILOS   \n",
       "1  SIN_ESPICULA_PRINCIPAL_TILOSTILO_                   SIN_TILOSTILOS   \n",
       "2                          FUSIFORME      SUBESFERICA_ALARGADA_OVOIDE   \n",
       "\n",
       "  E.DISPOSICION_MEGASCLERAS_ECTOSOMICAS_EN_EL_ECTOSOMA  \\\n",
       "0                                         EMPALIZADA     \n",
       "1                        SIN_MEGASCLERAS_ECTOSOMICAS     \n",
       "2                        SIN_MEGASCLERAS_ECTOSOMICAS     \n",
       "\n",
       "  E.FORMA_BASE_TILOSTILO_ECTOSOMICO E.FORMA_MEGASCLERA_ECTOSOMICA  \\\n",
       "0       SUBESFERICA_ALARGADA_OVOIDE               RECTA_FUSIFORME   \n",
       "1          SIN_TILOSTILO_ECTOSOMICO     SIN_MEGASCLERA_ECTOSOMICA   \n",
       "2          SIN_TILOSTILO_ECTOSOMICO     SIN_MEGASCLERA_ECTOSOMICA   \n",
       "\n",
       "  E.TIPO_MEGASCLERA_ECTOSOMICA F.TIPO_DE_EXOSTILO  \\\n",
       "0                       ESTILO      SIN_EXOSTILOS   \n",
       "1    SIN_MEGASCLERA_ECTOSOMICA      SIN_EXOSTILOS   \n",
       "2    SIN_MEGASCLERA_ECTOSOMICA      SIN_EXOSTILOS   \n",
       "\n",
       "  G.FORMA_MEGASCLERA_INTERMEDIARIA G.TIPO_MEGASCLERA_INTERMEDIARIA  \\\n",
       "0     SIN_MEGASCLERA_INTERMEDIARIA    SIN_MEGASCLERA_INTERMEDIARIA   \n",
       "1     SIN_MEGASCLERA_INTERMEDIARIA    SIN_MEGASCLERA_INTERMEDIARIA   \n",
       "2     SIN_MEGASCLERA_INTERMEDIARIA    SIN_MEGASCLERA_INTERMEDIARIA   \n",
       "\n",
       "   H.LONGITUD_MEGASCLERAS I.MICROSCLERAS I.TIPO_MICROSCLERA J.ASTER  \\\n",
       "0                       3             NO   SIN_MICROSCLERAS      NO   \n",
       "1                       1             SI              ASTER      SI   \n",
       "2                       1             SI              ASTER      SI   \n",
       "\n",
       "  J.DIAMETRO_ESFERASTER J.TIPO_DE_ASTER J.TIPO_DE_DIPLASTER  \\\n",
       "0        SIN_ESFERASTER       SIN_ASTER     SIN_DIPLASTERES   \n",
       "1        SIN_ESFERASTER       ANFIASTER     SIN_DIPLASTERES   \n",
       "2        SIN_ESFERASTER      ESPIRASTER     SIN_DIPLASTERES   \n",
       "\n",
       "  J.TIPO_DE_ESFERASTER     K.FORMA_FINAL  L.NUMERO_DE_PAPILAS L.PAPILAS  \\\n",
       "0       SIN_ESFERASTER  MASIVO_IRREGULAR                    0        NO   \n",
       "1       SIN_ESFERASTER       INCRUSTANTE                    0        NO   \n",
       "2       SIN_ESFERASTER       INCRUSTANTE                    1        SI   \n",
       "\n",
       "  M.COLOR  N.SUPERFICIE O.DISPOSICION_ESPICULAR_ESQUELETO  \\\n",
       "0    OTROS       RUGOSA                            RADIAL   \n",
       "1        ?         LISA                           CONFUSA   \n",
       "2    OTROS         LISA                           CONFUSA   \n",
       "\n",
       "  P.ALOJA_CANGREJO_ERMITANO P.PERFORANTE P.PSEUDORAICES P.SUSTRATO  \n",
       "0                        NO           NO             NO       DURO  \n",
       "1                        NO           SI             NO       DURO  \n",
       "2                        NO           SI             NO       DURO  "
      ]
     },
     "execution_count": 6,
     "metadata": {},
     "output_type": "execute_result"
    }
   ],
   "source": [
    "raw_data.head(3)"
   ]
  },
  {
   "cell_type": "code",
   "execution_count": 7,
   "metadata": {
    "collapsed": false
   },
   "outputs": [
    {
     "data": {
      "text/html": [
       "<div>\n",
       "<table border=\"1\" class=\"dataframe\">\n",
       "  <thead>\n",
       "    <tr style=\"text-align: right;\">\n",
       "      <th></th>\n",
       "      <th>A.CAPAS_DEL_CORTEX</th>\n",
       "    </tr>\n",
       "  </thead>\n",
       "  <tbody>\n",
       "    <tr>\n",
       "      <th>SIN_CORTEX</th>\n",
       "      <td>33</td>\n",
       "    </tr>\n",
       "    <tr>\n",
       "      <th>2_CAPAS</th>\n",
       "      <td>23</td>\n",
       "    </tr>\n",
       "    <tr>\n",
       "      <th>1_CAPA</th>\n",
       "      <td>15</td>\n",
       "    </tr>\n",
       "    <tr>\n",
       "      <th>3_CAPAS</th>\n",
       "      <td>5</td>\n",
       "    </tr>\n",
       "  </tbody>\n",
       "</table>\n",
       "</div>"
      ],
      "text/plain": [
       "            A.CAPAS_DEL_CORTEX\n",
       "SIN_CORTEX                  33\n",
       "2_CAPAS                     23\n",
       "1_CAPA                      15\n",
       "3_CAPAS                      5"
      ]
     },
     "metadata": {},
     "output_type": "display_data"
    },
    {
     "data": {
      "text/html": [
       "<div>\n",
       "<table border=\"1\" class=\"dataframe\">\n",
       "  <thead>\n",
       "    <tr style=\"text-align: right;\">\n",
       "      <th></th>\n",
       "      <th>A.CAPA_INTERNA_DEL_CORTEX</th>\n",
       "    </tr>\n",
       "  </thead>\n",
       "  <tbody>\n",
       "    <tr>\n",
       "      <th>SIN_CAPA_INTERNA_DEL_CORTEX</th>\n",
       "      <td>46</td>\n",
       "    </tr>\n",
       "    <tr>\n",
       "      <th>TANGENCIAL</th>\n",
       "      <td>19</td>\n",
       "    </tr>\n",
       "    <tr>\n",
       "      <th>PERPENDICULAR</th>\n",
       "      <td>4</td>\n",
       "    </tr>\n",
       "    <tr>\n",
       "      <th>BANDAS_DE_ESPICULAS_CRUZADAS</th>\n",
       "      <td>3</td>\n",
       "    </tr>\n",
       "    <tr>\n",
       "      <th>TANGENCIAL_Y_PERPENDICULAR</th>\n",
       "      <td>2</td>\n",
       "    </tr>\n",
       "    <tr>\n",
       "      <th>MICROSCLERAS</th>\n",
       "      <td>2</td>\n",
       "    </tr>\n",
       "  </tbody>\n",
       "</table>\n",
       "</div>"
      ],
      "text/plain": [
       "                              A.CAPA_INTERNA_DEL_CORTEX\n",
       "SIN_CAPA_INTERNA_DEL_CORTEX                          46\n",
       "TANGENCIAL                                           19\n",
       "PERPENDICULAR                                         4\n",
       "BANDAS_DE_ESPICULAS_CRUZADAS                          3\n",
       "TANGENCIAL_Y_PERPENDICULAR                            2\n",
       "MICROSCLERAS                                          2"
      ]
     },
     "metadata": {},
     "output_type": "display_data"
    },
    {
     "data": {
      "text/html": [
       "<div>\n",
       "<table border=\"1\" class=\"dataframe\">\n",
       "  <thead>\n",
       "    <tr style=\"text-align: right;\">\n",
       "      <th></th>\n",
       "      <th>A.CORTEX</th>\n",
       "    </tr>\n",
       "  </thead>\n",
       "  <tbody>\n",
       "    <tr>\n",
       "      <th>SI</th>\n",
       "      <td>43</td>\n",
       "    </tr>\n",
       "    <tr>\n",
       "      <th>NO</th>\n",
       "      <td>33</td>\n",
       "    </tr>\n",
       "  </tbody>\n",
       "</table>\n",
       "</div>"
      ],
      "text/plain": [
       "    A.CORTEX\n",
       "SI        43\n",
       "NO        33"
      ]
     },
     "metadata": {},
     "output_type": "display_data"
    },
    {
     "data": {
      "text/html": [
       "<div>\n",
       "<table border=\"1\" class=\"dataframe\">\n",
       "  <thead>\n",
       "    <tr style=\"text-align: right;\">\n",
       "      <th></th>\n",
       "      <th>A.CORTEX_FIBROSO</th>\n",
       "    </tr>\n",
       "  </thead>\n",
       "  <tbody>\n",
       "    <tr>\n",
       "      <th>NO</th>\n",
       "      <td>38</td>\n",
       "    </tr>\n",
       "    <tr>\n",
       "      <th>SIN_CORTEX</th>\n",
       "      <td>33</td>\n",
       "    </tr>\n",
       "    <tr>\n",
       "      <th>SI</th>\n",
       "      <td>5</td>\n",
       "    </tr>\n",
       "  </tbody>\n",
       "</table>\n",
       "</div>"
      ],
      "text/plain": [
       "            A.CORTEX_FIBROSO\n",
       "NO                        38\n",
       "SIN_CORTEX                33\n",
       "SI                         5"
      ]
     },
     "metadata": {},
     "output_type": "display_data"
    },
    {
     "data": {
      "text/html": [
       "<div>\n",
       "<table border=\"1\" class=\"dataframe\">\n",
       "  <thead>\n",
       "    <tr style=\"text-align: right;\">\n",
       "      <th></th>\n",
       "      <th>A.CORTEX_SOLO_DE_ESPICULAS_TANGENCIALES</th>\n",
       "    </tr>\n",
       "  </thead>\n",
       "  <tbody>\n",
       "    <tr>\n",
       "      <th>NO</th>\n",
       "      <td>42</td>\n",
       "    </tr>\n",
       "    <tr>\n",
       "      <th>SIN_CORTEX</th>\n",
       "      <td>33</td>\n",
       "    </tr>\n",
       "    <tr>\n",
       "      <th>SI</th>\n",
       "      <td>1</td>\n",
       "    </tr>\n",
       "  </tbody>\n",
       "</table>\n",
       "</div>"
      ],
      "text/plain": [
       "            A.CORTEX_SOLO_DE_ESPICULAS_TANGENCIALES\n",
       "NO                                               42\n",
       "SIN_CORTEX                                       33\n",
       "SI                                                1"
      ]
     },
     "metadata": {},
     "output_type": "display_data"
    },
    {
     "data": {
      "text/html": [
       "<div>\n",
       "<table border=\"1\" class=\"dataframe\">\n",
       "  <thead>\n",
       "    <tr style=\"text-align: right;\">\n",
       "      <th></th>\n",
       "      <th>A.CUERPOS_EXTRANOS_EN_EL_CORTEX</th>\n",
       "    </tr>\n",
       "  </thead>\n",
       "  <tbody>\n",
       "    <tr>\n",
       "      <th>NO</th>\n",
       "      <td>42</td>\n",
       "    </tr>\n",
       "    <tr>\n",
       "      <th>SIN_CORTEX</th>\n",
       "      <td>33</td>\n",
       "    </tr>\n",
       "    <tr>\n",
       "      <th>SI</th>\n",
       "      <td>1</td>\n",
       "    </tr>\n",
       "  </tbody>\n",
       "</table>\n",
       "</div>"
      ],
      "text/plain": [
       "            A.CUERPOS_EXTRANOS_EN_EL_CORTEX\n",
       "NO                                       42\n",
       "SIN_CORTEX                               33\n",
       "SI                                        1"
      ]
     },
     "metadata": {},
     "output_type": "display_data"
    },
    {
     "data": {
      "text/html": [
       "<div>\n",
       "<table border=\"1\" class=\"dataframe\">\n",
       "  <thead>\n",
       "    <tr style=\"text-align: right;\">\n",
       "      <th></th>\n",
       "      <th>A.GROSOR_DEL_CORTEX</th>\n",
       "    </tr>\n",
       "  </thead>\n",
       "  <tbody>\n",
       "    <tr>\n",
       "      <th>0</th>\n",
       "      <td>33</td>\n",
       "    </tr>\n",
       "    <tr>\n",
       "      <th>3</th>\n",
       "      <td>16</td>\n",
       "    </tr>\n",
       "    <tr>\n",
       "      <th>2</th>\n",
       "      <td>15</td>\n",
       "    </tr>\n",
       "    <tr>\n",
       "      <th>4</th>\n",
       "      <td>10</td>\n",
       "    </tr>\n",
       "    <tr>\n",
       "      <th>1</th>\n",
       "      <td>2</td>\n",
       "    </tr>\n",
       "  </tbody>\n",
       "</table>\n",
       "</div>"
      ],
      "text/plain": [
       "   A.GROSOR_DEL_CORTEX\n",
       "0                   33\n",
       "3                   16\n",
       "2                   15\n",
       "4                   10\n",
       "1                    2"
      ]
     },
     "metadata": {},
     "output_type": "display_data"
    },
    {
     "data": {
      "text/html": [
       "<div>\n",
       "<table border=\"1\" class=\"dataframe\">\n",
       "  <thead>\n",
       "    <tr style=\"text-align: right;\">\n",
       "      <th></th>\n",
       "      <th>A.HACES_DE_ESPICULAS_PRINCIPALES_EN_POMPON_EN_EL_CORTEX</th>\n",
       "    </tr>\n",
       "  </thead>\n",
       "  <tbody>\n",
       "    <tr>\n",
       "      <th>NO</th>\n",
       "      <td>74</td>\n",
       "    </tr>\n",
       "    <tr>\n",
       "      <th>SI</th>\n",
       "      <td>2</td>\n",
       "    </tr>\n",
       "  </tbody>\n",
       "</table>\n",
       "</div>"
      ],
      "text/plain": [
       "    A.HACES_DE_ESPICULAS_PRINCIPALES_EN_POMPON_EN_EL_CORTEX\n",
       "NO                                                 74      \n",
       "SI                                                  2      "
      ]
     },
     "metadata": {},
     "output_type": "display_data"
    },
    {
     "data": {
      "text/html": [
       "<div>\n",
       "<table border=\"1\" class=\"dataframe\">\n",
       "  <thead>\n",
       "    <tr style=\"text-align: right;\">\n",
       "      <th></th>\n",
       "      <th>A.TILOSTILOS_ADICIONALES_COANOSOMA</th>\n",
       "    </tr>\n",
       "  </thead>\n",
       "  <tbody>\n",
       "    <tr>\n",
       "      <th>SIN_TILOSTILOS_ADICIONALES</th>\n",
       "      <td>44</td>\n",
       "    </tr>\n",
       "    <tr>\n",
       "      <th>INTERMEDIARIOS</th>\n",
       "      <td>10</td>\n",
       "    </tr>\n",
       "    <tr>\n",
       "      <th>INTERMEDIARIOS_Y_ECTOSOMICOS</th>\n",
       "      <td>8</td>\n",
       "    </tr>\n",
       "    <tr>\n",
       "      <th>ECTOSOMICOS_EN_RAMILLETES</th>\n",
       "      <td>8</td>\n",
       "    </tr>\n",
       "    <tr>\n",
       "      <th>ECTOSOMICOS_DISPERSOS</th>\n",
       "      <td>6</td>\n",
       "    </tr>\n",
       "  </tbody>\n",
       "</table>\n",
       "</div>"
      ],
      "text/plain": [
       "                              A.TILOSTILOS_ADICIONALES_COANOSOMA\n",
       "SIN_TILOSTILOS_ADICIONALES                                    44\n",
       "INTERMEDIARIOS                                                10\n",
       "INTERMEDIARIOS_Y_ECTOSOMICOS                                   8\n",
       "ECTOSOMICOS_EN_RAMILLETES                                      8\n",
       "ECTOSOMICOS_DISPERSOS                                          6"
      ]
     },
     "metadata": {},
     "output_type": "display_data"
    },
    {
     "data": {
      "text/html": [
       "<div>\n",
       "<table border=\"1\" class=\"dataframe\">\n",
       "  <thead>\n",
       "    <tr style=\"text-align: right;\">\n",
       "      <th></th>\n",
       "      <th>B.NUMERO_DE_TIPOS_DE_MEGASCLERAS</th>\n",
       "    </tr>\n",
       "  </thead>\n",
       "  <tbody>\n",
       "    <tr>\n",
       "      <th>3_TIPOS</th>\n",
       "      <td>32</td>\n",
       "    </tr>\n",
       "    <tr>\n",
       "      <th>1_TIPO</th>\n",
       "      <td>27</td>\n",
       "    </tr>\n",
       "    <tr>\n",
       "      <th>2_TIPOS</th>\n",
       "      <td>16</td>\n",
       "    </tr>\n",
       "    <tr>\n",
       "      <th>SI_TIPO</th>\n",
       "      <td>1</td>\n",
       "    </tr>\n",
       "  </tbody>\n",
       "</table>\n",
       "</div>"
      ],
      "text/plain": [
       "         B.NUMERO_DE_TIPOS_DE_MEGASCLERAS\n",
       "3_TIPOS                                32\n",
       "1_TIPO                                 27\n",
       "2_TIPOS                                16\n",
       "SI_TIPO                                 1"
      ]
     },
     "metadata": {},
     "output_type": "display_data"
    },
    {
     "data": {
      "text/html": [
       "<div>\n",
       "<table border=\"1\" class=\"dataframe\">\n",
       "  <thead>\n",
       "    <tr style=\"text-align: right;\">\n",
       "      <th></th>\n",
       "      <th>C.TIPO_ESPICULA_PRINCIPAL_DIACTINA_TUBERCULADA</th>\n",
       "    </tr>\n",
       "  </thead>\n",
       "  <tbody>\n",
       "    <tr>\n",
       "      <th>NO</th>\n",
       "      <td>75</td>\n",
       "    </tr>\n",
       "    <tr>\n",
       "      <th>SI</th>\n",
       "      <td>1</td>\n",
       "    </tr>\n",
       "  </tbody>\n",
       "</table>\n",
       "</div>"
      ],
      "text/plain": [
       "    C.TIPO_ESPICULA_PRINCIPAL_DIACTINA_TUBERCULADA\n",
       "NO                                              75\n",
       "SI                                               1"
      ]
     },
     "metadata": {},
     "output_type": "display_data"
    },
    {
     "data": {
      "text/html": [
       "<div>\n",
       "<table border=\"1\" class=\"dataframe\">\n",
       "  <thead>\n",
       "    <tr style=\"text-align: right;\">\n",
       "      <th></th>\n",
       "      <th>C.TIPO_ESPICULA_PRINCIPAL_ESTILO</th>\n",
       "    </tr>\n",
       "  </thead>\n",
       "  <tbody>\n",
       "    <tr>\n",
       "      <th>NO</th>\n",
       "      <td>66</td>\n",
       "    </tr>\n",
       "    <tr>\n",
       "      <th>SI</th>\n",
       "      <td>10</td>\n",
       "    </tr>\n",
       "  </tbody>\n",
       "</table>\n",
       "</div>"
      ],
      "text/plain": [
       "    C.TIPO_ESPICULA_PRINCIPAL_ESTILO\n",
       "NO                                66\n",
       "SI                                10"
      ]
     },
     "metadata": {},
     "output_type": "display_data"
    },
    {
     "data": {
      "text/html": [
       "<div>\n",
       "<table border=\"1\" class=\"dataframe\">\n",
       "  <thead>\n",
       "    <tr style=\"text-align: right;\">\n",
       "      <th></th>\n",
       "      <th>C.TIPO_ESPICULA_PRINCIPAL_ESTILOS_2_TAMANOS</th>\n",
       "    </tr>\n",
       "  </thead>\n",
       "  <tbody>\n",
       "    <tr>\n",
       "      <th>NO</th>\n",
       "      <td>75</td>\n",
       "    </tr>\n",
       "    <tr>\n",
       "      <th>SI</th>\n",
       "      <td>1</td>\n",
       "    </tr>\n",
       "  </tbody>\n",
       "</table>\n",
       "</div>"
      ],
      "text/plain": [
       "    C.TIPO_ESPICULA_PRINCIPAL_ESTILOS_2_TAMANOS\n",
       "NO                                           75\n",
       "SI                                            1"
      ]
     },
     "metadata": {},
     "output_type": "display_data"
    },
    {
     "data": {
      "text/html": [
       "<div>\n",
       "<table border=\"1\" class=\"dataframe\">\n",
       "  <thead>\n",
       "    <tr style=\"text-align: right;\">\n",
       "      <th></th>\n",
       "      <th>C.TIPO_ESPICULA_PRINCIPAL_ESTILO_TILOSTILO</th>\n",
       "    </tr>\n",
       "  </thead>\n",
       "  <tbody>\n",
       "    <tr>\n",
       "      <th>NO</th>\n",
       "      <td>67</td>\n",
       "    </tr>\n",
       "    <tr>\n",
       "      <th>SI</th>\n",
       "      <td>9</td>\n",
       "    </tr>\n",
       "  </tbody>\n",
       "</table>\n",
       "</div>"
      ],
      "text/plain": [
       "    C.TIPO_ESPICULA_PRINCIPAL_ESTILO_TILOSTILO\n",
       "NO                                          67\n",
       "SI                                           9"
      ]
     },
     "metadata": {},
     "output_type": "display_data"
    },
    {
     "data": {
      "text/html": [
       "<div>\n",
       "<table border=\"1\" class=\"dataframe\">\n",
       "  <thead>\n",
       "    <tr style=\"text-align: right;\">\n",
       "      <th></th>\n",
       "      <th>C.TIPO_ESPICULA_PRINCIPAL_ESTRONGILOXA</th>\n",
       "    </tr>\n",
       "  </thead>\n",
       "  <tbody>\n",
       "    <tr>\n",
       "      <th>NO</th>\n",
       "      <td>69</td>\n",
       "    </tr>\n",
       "    <tr>\n",
       "      <th>SI</th>\n",
       "      <td>7</td>\n",
       "    </tr>\n",
       "  </tbody>\n",
       "</table>\n",
       "</div>"
      ],
      "text/plain": [
       "    C.TIPO_ESPICULA_PRINCIPAL_ESTRONGILOXA\n",
       "NO                                      69\n",
       "SI                                       7"
      ]
     },
     "metadata": {},
     "output_type": "display_data"
    },
    {
     "data": {
      "text/html": [
       "<div>\n",
       "<table border=\"1\" class=\"dataframe\">\n",
       "  <thead>\n",
       "    <tr style=\"text-align: right;\">\n",
       "      <th></th>\n",
       "      <th>C.TIPO_ESPICULA_PRINCIPAL_OXAS</th>\n",
       "    </tr>\n",
       "  </thead>\n",
       "  <tbody>\n",
       "    <tr>\n",
       "      <th>NO</th>\n",
       "      <td>69</td>\n",
       "    </tr>\n",
       "    <tr>\n",
       "      <th>SI</th>\n",
       "      <td>7</td>\n",
       "    </tr>\n",
       "  </tbody>\n",
       "</table>\n",
       "</div>"
      ],
      "text/plain": [
       "    C.TIPO_ESPICULA_PRINCIPAL_OXAS\n",
       "NO                              69\n",
       "SI                               7"
      ]
     },
     "metadata": {},
     "output_type": "display_data"
    },
    {
     "data": {
      "text/html": [
       "<div>\n",
       "<table border=\"1\" class=\"dataframe\">\n",
       "  <thead>\n",
       "    <tr style=\"text-align: right;\">\n",
       "      <th></th>\n",
       "      <th>C.TIPO_ESPICULA_PRINCIPAL_TILOSTILO</th>\n",
       "    </tr>\n",
       "  </thead>\n",
       "  <tbody>\n",
       "    <tr>\n",
       "      <th>SI</th>\n",
       "      <td>52</td>\n",
       "    </tr>\n",
       "    <tr>\n",
       "      <th>NO</th>\n",
       "      <td>24</td>\n",
       "    </tr>\n",
       "  </tbody>\n",
       "</table>\n",
       "</div>"
      ],
      "text/plain": [
       "    C.TIPO_ESPICULA_PRINCIPAL_TILOSTILO\n",
       "SI                                   52\n",
       "NO                                   24"
      ]
     },
     "metadata": {},
     "output_type": "display_data"
    },
    {
     "data": {
      "text/html": [
       "<div>\n",
       "<table border=\"1\" class=\"dataframe\">\n",
       "  <thead>\n",
       "    <tr style=\"text-align: right;\">\n",
       "      <th></th>\n",
       "      <th>D.ESPICULA_PRINCIPAL_ESTILO</th>\n",
       "    </tr>\n",
       "  </thead>\n",
       "  <tbody>\n",
       "    <tr>\n",
       "      <th>SIN_ESPICULA_PRINCIPAL_ESTILO</th>\n",
       "      <td>56</td>\n",
       "    </tr>\n",
       "    <tr>\n",
       "      <th>NORMAL</th>\n",
       "      <td>10</td>\n",
       "    </tr>\n",
       "    <tr>\n",
       "      <th>FUSIFORME</th>\n",
       "      <td>8</td>\n",
       "    </tr>\n",
       "    <tr>\n",
       "      <th>POLITILOTA</th>\n",
       "      <td>2</td>\n",
       "    </tr>\n",
       "  </tbody>\n",
       "</table>\n",
       "</div>"
      ],
      "text/plain": [
       "                               D.ESPICULA_PRINCIPAL_ESTILO\n",
       "SIN_ESPICULA_PRINCIPAL_ESTILO                           56\n",
       "NORMAL                                                  10\n",
       "FUSIFORME                                                8\n",
       "POLITILOTA                                               2"
      ]
     },
     "metadata": {},
     "output_type": "display_data"
    },
    {
     "data": {
      "text/html": [
       "<div>\n",
       "<table border=\"1\" class=\"dataframe\">\n",
       "  <thead>\n",
       "    <tr style=\"text-align: right;\">\n",
       "      <th></th>\n",
       "      <th>D.ESPICULA_PRINCIPAL_TILOSTILO</th>\n",
       "    </tr>\n",
       "  </thead>\n",
       "  <tbody>\n",
       "    <tr>\n",
       "      <th>NORMAL</th>\n",
       "      <td>36</td>\n",
       "    </tr>\n",
       "    <tr>\n",
       "      <th>FUSIFORME</th>\n",
       "      <td>17</td>\n",
       "    </tr>\n",
       "    <tr>\n",
       "      <th>SIN_ESPICULA_PRINCIPAL_TILOSTILO_</th>\n",
       "      <td>16</td>\n",
       "    </tr>\n",
       "    <tr>\n",
       "      <th>POLITILOTA</th>\n",
       "      <td>7</td>\n",
       "    </tr>\n",
       "  </tbody>\n",
       "</table>\n",
       "</div>"
      ],
      "text/plain": [
       "                                   D.ESPICULA_PRINCIPAL_TILOSTILO\n",
       "NORMAL                                                         36\n",
       "FUSIFORME                                                      17\n",
       "SIN_ESPICULA_PRINCIPAL_TILOSTILO_                              16\n",
       "POLITILOTA                                                      7"
      ]
     },
     "metadata": {},
     "output_type": "display_data"
    },
    {
     "data": {
      "text/html": [
       "<div>\n",
       "<table border=\"1\" class=\"dataframe\">\n",
       "  <thead>\n",
       "    <tr style=\"text-align: right;\">\n",
       "      <th></th>\n",
       "      <th>D.FORMA_BASE_TILOSTILO_PRINCIPAL</th>\n",
       "    </tr>\n",
       "  </thead>\n",
       "  <tbody>\n",
       "    <tr>\n",
       "      <th>SUBESFERICA_ALARGADA_OVOIDE</th>\n",
       "      <td>52</td>\n",
       "    </tr>\n",
       "    <tr>\n",
       "      <th>SIN_TILOSTILOS</th>\n",
       "      <td>17</td>\n",
       "    </tr>\n",
       "    <tr>\n",
       "      <th>TRILOBULADA</th>\n",
       "      <td>6</td>\n",
       "    </tr>\n",
       "    <tr>\n",
       "      <th>POMO</th>\n",
       "      <td>1</td>\n",
       "    </tr>\n",
       "  </tbody>\n",
       "</table>\n",
       "</div>"
      ],
      "text/plain": [
       "                             D.FORMA_BASE_TILOSTILO_PRINCIPAL\n",
       "SUBESFERICA_ALARGADA_OVOIDE                                52\n",
       "SIN_TILOSTILOS                                             17\n",
       "TRILOBULADA                                                 6\n",
       "POMO                                                        1"
      ]
     },
     "metadata": {},
     "output_type": "display_data"
    },
    {
     "data": {
      "text/html": [
       "<div>\n",
       "<table border=\"1\" class=\"dataframe\">\n",
       "  <thead>\n",
       "    <tr style=\"text-align: right;\">\n",
       "      <th></th>\n",
       "      <th>E.DISPOSICION_MEGASCLERAS_ECTOSOMICAS_EN_EL_ECTOSOMA</th>\n",
       "    </tr>\n",
       "  </thead>\n",
       "  <tbody>\n",
       "    <tr>\n",
       "      <th>EMPALIZADA</th>\n",
       "      <td>39</td>\n",
       "    </tr>\n",
       "    <tr>\n",
       "      <th>SIN_MEGASCLERAS_ECTOSOMICAS</th>\n",
       "      <td>31</td>\n",
       "    </tr>\n",
       "    <tr>\n",
       "      <th>TANGENCIALES</th>\n",
       "      <td>3</td>\n",
       "    </tr>\n",
       "    <tr>\n",
       "      <th>RAMILLETES</th>\n",
       "      <td>3</td>\n",
       "    </tr>\n",
       "  </tbody>\n",
       "</table>\n",
       "</div>"
      ],
      "text/plain": [
       "                             E.DISPOSICION_MEGASCLERAS_ECTOSOMICAS_EN_EL_ECTOSOMA\n",
       "EMPALIZADA                                                                  39   \n",
       "SIN_MEGASCLERAS_ECTOSOMICAS                                                 31   \n",
       "TANGENCIALES                                                                 3   \n",
       "RAMILLETES                                                                   3   "
      ]
     },
     "metadata": {},
     "output_type": "display_data"
    },
    {
     "data": {
      "text/html": [
       "<div>\n",
       "<table border=\"1\" class=\"dataframe\">\n",
       "  <thead>\n",
       "    <tr style=\"text-align: right;\">\n",
       "      <th></th>\n",
       "      <th>E.FORMA_BASE_TILOSTILO_ECTOSOMICO</th>\n",
       "    </tr>\n",
       "  </thead>\n",
       "  <tbody>\n",
       "    <tr>\n",
       "      <th>SUBESFERICA_ALARGADA_OVOIDE</th>\n",
       "      <td>38</td>\n",
       "    </tr>\n",
       "    <tr>\n",
       "      <th>SIN_TILOSTILO_ECTOSOMICO</th>\n",
       "      <td>34</td>\n",
       "    </tr>\n",
       "    <tr>\n",
       "      <th>TRILOBULADA_CON_VESICULA_AXIAL</th>\n",
       "      <td>4</td>\n",
       "    </tr>\n",
       "  </tbody>\n",
       "</table>\n",
       "</div>"
      ],
      "text/plain": [
       "                                E.FORMA_BASE_TILOSTILO_ECTOSOMICO\n",
       "SUBESFERICA_ALARGADA_OVOIDE                                    38\n",
       "SIN_TILOSTILO_ECTOSOMICO                                       34\n",
       "TRILOBULADA_CON_VESICULA_AXIAL                                  4"
      ]
     },
     "metadata": {},
     "output_type": "display_data"
    },
    {
     "data": {
      "text/html": [
       "<div>\n",
       "<table border=\"1\" class=\"dataframe\">\n",
       "  <thead>\n",
       "    <tr style=\"text-align: right;\">\n",
       "      <th></th>\n",
       "      <th>E.FORMA_MEGASCLERA_ECTOSOMICA</th>\n",
       "    </tr>\n",
       "  </thead>\n",
       "  <tbody>\n",
       "    <tr>\n",
       "      <th>SIN_MEGASCLERA_ECTOSOMICA</th>\n",
       "      <td>32</td>\n",
       "    </tr>\n",
       "    <tr>\n",
       "      <th>CURVADA</th>\n",
       "      <td>25</td>\n",
       "    </tr>\n",
       "    <tr>\n",
       "      <th>RECTA_FUSIFORME</th>\n",
       "      <td>10</td>\n",
       "    </tr>\n",
       "    <tr>\n",
       "      <th>RECTA_NO_FUSIFORME</th>\n",
       "      <td>9</td>\n",
       "    </tr>\n",
       "  </tbody>\n",
       "</table>\n",
       "</div>"
      ],
      "text/plain": [
       "                           E.FORMA_MEGASCLERA_ECTOSOMICA\n",
       "SIN_MEGASCLERA_ECTOSOMICA                             32\n",
       "CURVADA                                               25\n",
       "RECTA_FUSIFORME                                       10\n",
       "RECTA_NO_FUSIFORME                                     9"
      ]
     },
     "metadata": {},
     "output_type": "display_data"
    },
    {
     "data": {
      "text/html": [
       "<div>\n",
       "<table border=\"1\" class=\"dataframe\">\n",
       "  <thead>\n",
       "    <tr style=\"text-align: right;\">\n",
       "      <th></th>\n",
       "      <th>E.TIPO_MEGASCLERA_ECTOSOMICA</th>\n",
       "    </tr>\n",
       "  </thead>\n",
       "  <tbody>\n",
       "    <tr>\n",
       "      <th>TILOSTILO</th>\n",
       "      <td>38</td>\n",
       "    </tr>\n",
       "    <tr>\n",
       "      <th>SIN_MEGASCLERA_ECTOSOMICA</th>\n",
       "      <td>32</td>\n",
       "    </tr>\n",
       "    <tr>\n",
       "      <th>ESTILO_TILOSTILO</th>\n",
       "      <td>3</td>\n",
       "    </tr>\n",
       "    <tr>\n",
       "      <th>OXAS_ESTRONGILOXAS</th>\n",
       "      <td>2</td>\n",
       "    </tr>\n",
       "    <tr>\n",
       "      <th>ESTILO</th>\n",
       "      <td>1</td>\n",
       "    </tr>\n",
       "  </tbody>\n",
       "</table>\n",
       "</div>"
      ],
      "text/plain": [
       "                           E.TIPO_MEGASCLERA_ECTOSOMICA\n",
       "TILOSTILO                                            38\n",
       "SIN_MEGASCLERA_ECTOSOMICA                            32\n",
       "ESTILO_TILOSTILO                                      3\n",
       "OXAS_ESTRONGILOXAS                                    2\n",
       "ESTILO                                                1"
      ]
     },
     "metadata": {},
     "output_type": "display_data"
    },
    {
     "data": {
      "text/html": [
       "<div>\n",
       "<table border=\"1\" class=\"dataframe\">\n",
       "  <thead>\n",
       "    <tr style=\"text-align: right;\">\n",
       "      <th></th>\n",
       "      <th>F.TIPO_DE_EXOSTILO</th>\n",
       "    </tr>\n",
       "  </thead>\n",
       "  <tbody>\n",
       "    <tr>\n",
       "      <th>SIN_EXOSTILOS</th>\n",
       "      <td>69</td>\n",
       "    </tr>\n",
       "    <tr>\n",
       "      <th>ESFEROTILOS</th>\n",
       "      <td>2</td>\n",
       "    </tr>\n",
       "    <tr>\n",
       "      <th>TILOSTILO_LISO</th>\n",
       "      <td>2</td>\n",
       "    </tr>\n",
       "    <tr>\n",
       "      <th>ANATRIENAS</th>\n",
       "      <td>1</td>\n",
       "    </tr>\n",
       "    <tr>\n",
       "      <th>TILOSTILOS_ESPINOSOS_EN_LA_PUNTA</th>\n",
       "      <td>1</td>\n",
       "    </tr>\n",
       "    <tr>\n",
       "      <th>CLADOTILOSTILOS</th>\n",
       "      <td>1</td>\n",
       "    </tr>\n",
       "  </tbody>\n",
       "</table>\n",
       "</div>"
      ],
      "text/plain": [
       "                                  F.TIPO_DE_EXOSTILO\n",
       "SIN_EXOSTILOS                                     69\n",
       "ESFEROTILOS                                        2\n",
       "TILOSTILO_LISO                                     2\n",
       "ANATRIENAS                                         1\n",
       "TILOSTILOS_ESPINOSOS_EN_LA_PUNTA                   1\n",
       "CLADOTILOSTILOS                                    1"
      ]
     },
     "metadata": {},
     "output_type": "display_data"
    },
    {
     "data": {
      "text/html": [
       "<div>\n",
       "<table border=\"1\" class=\"dataframe\">\n",
       "  <thead>\n",
       "    <tr style=\"text-align: right;\">\n",
       "      <th></th>\n",
       "      <th>G.FORMA_MEGASCLERA_INTERMEDIARIA</th>\n",
       "    </tr>\n",
       "  </thead>\n",
       "  <tbody>\n",
       "    <tr>\n",
       "      <th>SIN_MEGASCLERA_INTERMEDIARIA</th>\n",
       "      <td>49</td>\n",
       "    </tr>\n",
       "    <tr>\n",
       "      <th>NORMAL</th>\n",
       "      <td>13</td>\n",
       "    </tr>\n",
       "    <tr>\n",
       "      <th>FUSIFORME</th>\n",
       "      <td>13</td>\n",
       "    </tr>\n",
       "    <tr>\n",
       "      <th>POLITILOTA</th>\n",
       "      <td>1</td>\n",
       "    </tr>\n",
       "  </tbody>\n",
       "</table>\n",
       "</div>"
      ],
      "text/plain": [
       "                              G.FORMA_MEGASCLERA_INTERMEDIARIA\n",
       "SIN_MEGASCLERA_INTERMEDIARIA                                49\n",
       "NORMAL                                                      13\n",
       "FUSIFORME                                                   13\n",
       "POLITILOTA                                                   1"
      ]
     },
     "metadata": {},
     "output_type": "display_data"
    },
    {
     "data": {
      "text/html": [
       "<div>\n",
       "<table border=\"1\" class=\"dataframe\">\n",
       "  <thead>\n",
       "    <tr style=\"text-align: right;\">\n",
       "      <th></th>\n",
       "      <th>G.TIPO_MEGASCLERA_INTERMEDIARIA</th>\n",
       "    </tr>\n",
       "  </thead>\n",
       "  <tbody>\n",
       "    <tr>\n",
       "      <th>SIN_MEGASCLERA_INTERMEDIARIA</th>\n",
       "      <td>49</td>\n",
       "    </tr>\n",
       "    <tr>\n",
       "      <th>TILOSTILO</th>\n",
       "      <td>22</td>\n",
       "    </tr>\n",
       "    <tr>\n",
       "      <th>ESTILO</th>\n",
       "      <td>3</td>\n",
       "    </tr>\n",
       "    <tr>\n",
       "      <th>ESTILO_TILOSTILO</th>\n",
       "      <td>2</td>\n",
       "    </tr>\n",
       "  </tbody>\n",
       "</table>\n",
       "</div>"
      ],
      "text/plain": [
       "                              G.TIPO_MEGASCLERA_INTERMEDIARIA\n",
       "SIN_MEGASCLERA_INTERMEDIARIA                               49\n",
       "TILOSTILO                                                  22\n",
       "ESTILO                                                      3\n",
       "ESTILO_TILOSTILO                                            2"
      ]
     },
     "metadata": {},
     "output_type": "display_data"
    },
    {
     "data": {
      "text/html": [
       "<div>\n",
       "<table border=\"1\" class=\"dataframe\">\n",
       "  <thead>\n",
       "    <tr style=\"text-align: right;\">\n",
       "      <th></th>\n",
       "      <th>H.LONGITUD_MEGASCLERAS</th>\n",
       "    </tr>\n",
       "  </thead>\n",
       "  <tbody>\n",
       "    <tr>\n",
       "      <th>3</th>\n",
       "      <td>39</td>\n",
       "    </tr>\n",
       "    <tr>\n",
       "      <th>2</th>\n",
       "      <td>18</td>\n",
       "    </tr>\n",
       "    <tr>\n",
       "      <th>1</th>\n",
       "      <td>17</td>\n",
       "    </tr>\n",
       "    <tr>\n",
       "      <th>0</th>\n",
       "      <td>2</td>\n",
       "    </tr>\n",
       "  </tbody>\n",
       "</table>\n",
       "</div>"
      ],
      "text/plain": [
       "   H.LONGITUD_MEGASCLERAS\n",
       "3                      39\n",
       "2                      18\n",
       "1                      17\n",
       "0                       2"
      ]
     },
     "metadata": {},
     "output_type": "display_data"
    },
    {
     "data": {
      "text/html": [
       "<div>\n",
       "<table border=\"1\" class=\"dataframe\">\n",
       "  <thead>\n",
       "    <tr style=\"text-align: right;\">\n",
       "      <th></th>\n",
       "      <th>I.MICROSCLERAS</th>\n",
       "    </tr>\n",
       "  </thead>\n",
       "  <tbody>\n",
       "    <tr>\n",
       "      <th>NO</th>\n",
       "      <td>54</td>\n",
       "    </tr>\n",
       "    <tr>\n",
       "      <th>SI</th>\n",
       "      <td>22</td>\n",
       "    </tr>\n",
       "  </tbody>\n",
       "</table>\n",
       "</div>"
      ],
      "text/plain": [
       "    I.MICROSCLERAS\n",
       "NO              54\n",
       "SI              22"
      ]
     },
     "metadata": {},
     "output_type": "display_data"
    },
    {
     "data": {
      "text/html": [
       "<div>\n",
       "<table border=\"1\" class=\"dataframe\">\n",
       "  <thead>\n",
       "    <tr style=\"text-align: right;\">\n",
       "      <th></th>\n",
       "      <th>I.TIPO_MICROSCLERA</th>\n",
       "    </tr>\n",
       "  </thead>\n",
       "  <tbody>\n",
       "    <tr>\n",
       "      <th>SIN_MICROSCLERAS</th>\n",
       "      <td>54</td>\n",
       "    </tr>\n",
       "    <tr>\n",
       "      <th>ASTER</th>\n",
       "      <td>15</td>\n",
       "    </tr>\n",
       "    <tr>\n",
       "      <th>MICROESTILOS_Y_MICROXAS</th>\n",
       "      <td>3</td>\n",
       "    </tr>\n",
       "    <tr>\n",
       "      <th>MICROESTRONGILOS_CENTROTILOTES</th>\n",
       "      <td>2</td>\n",
       "    </tr>\n",
       "    <tr>\n",
       "      <th>TRICODRAGMA</th>\n",
       "      <td>2</td>\n",
       "    </tr>\n",
       "  </tbody>\n",
       "</table>\n",
       "</div>"
      ],
      "text/plain": [
       "                                I.TIPO_MICROSCLERA\n",
       "SIN_MICROSCLERAS                                54\n",
       "ASTER                                           15\n",
       "MICROESTILOS_Y_MICROXAS                          3\n",
       "MICROESTRONGILOS_CENTROTILOTES                   2\n",
       "TRICODRAGMA                                      2"
      ]
     },
     "metadata": {},
     "output_type": "display_data"
    },
    {
     "data": {
      "text/html": [
       "<div>\n",
       "<table border=\"1\" class=\"dataframe\">\n",
       "  <thead>\n",
       "    <tr style=\"text-align: right;\">\n",
       "      <th></th>\n",
       "      <th>J.ASTER</th>\n",
       "    </tr>\n",
       "  </thead>\n",
       "  <tbody>\n",
       "    <tr>\n",
       "      <th>NO</th>\n",
       "      <td>60</td>\n",
       "    </tr>\n",
       "    <tr>\n",
       "      <th>SI</th>\n",
       "      <td>16</td>\n",
       "    </tr>\n",
       "  </tbody>\n",
       "</table>\n",
       "</div>"
      ],
      "text/plain": [
       "    J.ASTER\n",
       "NO       60\n",
       "SI       16"
      ]
     },
     "metadata": {},
     "output_type": "display_data"
    },
    {
     "data": {
      "text/html": [
       "<div>\n",
       "<table border=\"1\" class=\"dataframe\">\n",
       "  <thead>\n",
       "    <tr style=\"text-align: right;\">\n",
       "      <th></th>\n",
       "      <th>J.DIAMETRO_ESFERASTER</th>\n",
       "    </tr>\n",
       "  </thead>\n",
       "  <tbody>\n",
       "    <tr>\n",
       "      <th>SIN_ESFERASTER</th>\n",
       "      <td>70</td>\n",
       "    </tr>\n",
       "    <tr>\n",
       "      <th>|40_110|</th>\n",
       "      <td>2</td>\n",
       "    </tr>\n",
       "    <tr>\n",
       "      <th>|20_25|</th>\n",
       "      <td>1</td>\n",
       "    </tr>\n",
       "    <tr>\n",
       "      <th>|5_6_Y_15_35|</th>\n",
       "      <td>1</td>\n",
       "    </tr>\n",
       "    <tr>\n",
       "      <th>|10_12|</th>\n",
       "      <td>1</td>\n",
       "    </tr>\n",
       "    <tr>\n",
       "      <th>|27_44|</th>\n",
       "      <td>1</td>\n",
       "    </tr>\n",
       "  </tbody>\n",
       "</table>\n",
       "</div>"
      ],
      "text/plain": [
       "                J.DIAMETRO_ESFERASTER\n",
       "SIN_ESFERASTER                     70\n",
       "|40_110|                            2\n",
       "|20_25|                             1\n",
       "|5_6_Y_15_35|                       1\n",
       "|10_12|                             1\n",
       "|27_44|                             1"
      ]
     },
     "metadata": {},
     "output_type": "display_data"
    },
    {
     "data": {
      "text/html": [
       "<div>\n",
       "<table border=\"1\" class=\"dataframe\">\n",
       "  <thead>\n",
       "    <tr style=\"text-align: right;\">\n",
       "      <th></th>\n",
       "      <th>J.TIPO_DE_ASTER</th>\n",
       "    </tr>\n",
       "  </thead>\n",
       "  <tbody>\n",
       "    <tr>\n",
       "      <th>SIN_ASTER</th>\n",
       "      <td>60</td>\n",
       "    </tr>\n",
       "    <tr>\n",
       "      <th>ESPIRASTER</th>\n",
       "      <td>6</td>\n",
       "    </tr>\n",
       "    <tr>\n",
       "      <th>ESFERASTER</th>\n",
       "      <td>5</td>\n",
       "    </tr>\n",
       "    <tr>\n",
       "      <th>DIPLASTER</th>\n",
       "      <td>2</td>\n",
       "    </tr>\n",
       "    <tr>\n",
       "      <th>QUIASTER_Y_ESFERASTER</th>\n",
       "      <td>1</td>\n",
       "    </tr>\n",
       "    <tr>\n",
       "      <th>QUIASTER</th>\n",
       "      <td>1</td>\n",
       "    </tr>\n",
       "    <tr>\n",
       "      <th>ANFIASTER</th>\n",
       "      <td>1</td>\n",
       "    </tr>\n",
       "  </tbody>\n",
       "</table>\n",
       "</div>"
      ],
      "text/plain": [
       "                       J.TIPO_DE_ASTER\n",
       "SIN_ASTER                           60\n",
       "ESPIRASTER                           6\n",
       "ESFERASTER                           5\n",
       "DIPLASTER                            2\n",
       "QUIASTER_Y_ESFERASTER                1\n",
       "QUIASTER                             1\n",
       "ANFIASTER                            1"
      ]
     },
     "metadata": {},
     "output_type": "display_data"
    },
    {
     "data": {
      "text/html": [
       "<div>\n",
       "<table border=\"1\" class=\"dataframe\">\n",
       "  <thead>\n",
       "    <tr style=\"text-align: right;\">\n",
       "      <th></th>\n",
       "      <th>J.TIPO_DE_DIPLASTER</th>\n",
       "    </tr>\n",
       "  </thead>\n",
       "  <tbody>\n",
       "    <tr>\n",
       "      <th>SIN_DIPLASTERES</th>\n",
       "      <td>74</td>\n",
       "    </tr>\n",
       "    <tr>\n",
       "      <th>CON_ACTINAS_COMPLEJAS</th>\n",
       "      <td>1</td>\n",
       "    </tr>\n",
       "    <tr>\n",
       "      <th>CON_ACTINAS_SIMPLES</th>\n",
       "      <td>1</td>\n",
       "    </tr>\n",
       "  </tbody>\n",
       "</table>\n",
       "</div>"
      ],
      "text/plain": [
       "                       J.TIPO_DE_DIPLASTER\n",
       "SIN_DIPLASTERES                         74\n",
       "CON_ACTINAS_COMPLEJAS                    1\n",
       "CON_ACTINAS_SIMPLES                      1"
      ]
     },
     "metadata": {},
     "output_type": "display_data"
    },
    {
     "data": {
      "text/html": [
       "<div>\n",
       "<table border=\"1\" class=\"dataframe\">\n",
       "  <thead>\n",
       "    <tr style=\"text-align: right;\">\n",
       "      <th></th>\n",
       "      <th>J.TIPO_DE_ESFERASTER</th>\n",
       "    </tr>\n",
       "  </thead>\n",
       "  <tbody>\n",
       "    <tr>\n",
       "      <th>SIN_ESFERASTER</th>\n",
       "      <td>70</td>\n",
       "    </tr>\n",
       "    <tr>\n",
       "      <th>OXIESFERASTER</th>\n",
       "      <td>5</td>\n",
       "    </tr>\n",
       "    <tr>\n",
       "      <th>OXIESFERASTER_Y_TILOESFERASTER</th>\n",
       "      <td>1</td>\n",
       "    </tr>\n",
       "  </tbody>\n",
       "</table>\n",
       "</div>"
      ],
      "text/plain": [
       "                                J.TIPO_DE_ESFERASTER\n",
       "SIN_ESFERASTER                                    70\n",
       "OXIESFERASTER                                      5\n",
       "OXIESFERASTER_Y_TILOESFERASTER                     1"
      ]
     },
     "metadata": {},
     "output_type": "display_data"
    },
    {
     "data": {
      "text/html": [
       "<div>\n",
       "<table border=\"1\" class=\"dataframe\">\n",
       "  <thead>\n",
       "    <tr style=\"text-align: right;\">\n",
       "      <th></th>\n",
       "      <th>K.FORMA_FINAL</th>\n",
       "    </tr>\n",
       "  </thead>\n",
       "  <tbody>\n",
       "    <tr>\n",
       "      <th>INCRUSTANTE</th>\n",
       "      <td>20</td>\n",
       "    </tr>\n",
       "    <tr>\n",
       "      <th>DE_REVESTIMIENTO</th>\n",
       "      <td>18</td>\n",
       "    </tr>\n",
       "    <tr>\n",
       "      <th>GLOBULOSA</th>\n",
       "      <td>10</td>\n",
       "    </tr>\n",
       "    <tr>\n",
       "      <th>MAZAS_PEDUNCULADAS_1/PEDUNCULO</th>\n",
       "      <td>10</td>\n",
       "    </tr>\n",
       "    <tr>\n",
       "      <th>MASIVO_IRREGULAR</th>\n",
       "      <td>9</td>\n",
       "    </tr>\n",
       "    <tr>\n",
       "      <th>HEMISFERICA</th>\n",
       "      <td>6</td>\n",
       "    </tr>\n",
       "    <tr>\n",
       "      <th>MAZAS_PEDUNCULADAS_VARIAS/PEDUNCULO</th>\n",
       "      <td>1</td>\n",
       "    </tr>\n",
       "    <tr>\n",
       "      <th>DE_CONO_INVERTIDO</th>\n",
       "      <td>1</td>\n",
       "    </tr>\n",
       "    <tr>\n",
       "      <th>RAMIFICADA</th>\n",
       "      <td>1</td>\n",
       "    </tr>\n",
       "  </tbody>\n",
       "</table>\n",
       "</div>"
      ],
      "text/plain": [
       "                                     K.FORMA_FINAL\n",
       "INCRUSTANTE                                     20\n",
       "DE_REVESTIMIENTO                                18\n",
       "GLOBULOSA                                       10\n",
       "MAZAS_PEDUNCULADAS_1/PEDUNCULO                  10\n",
       "MASIVO_IRREGULAR                                 9\n",
       "HEMISFERICA                                      6\n",
       "MAZAS_PEDUNCULADAS_VARIAS/PEDUNCULO              1\n",
       "DE_CONO_INVERTIDO                                1\n",
       "RAMIFICADA                                       1"
      ]
     },
     "metadata": {},
     "output_type": "display_data"
    },
    {
     "data": {
      "text/html": [
       "<div>\n",
       "<table border=\"1\" class=\"dataframe\">\n",
       "  <thead>\n",
       "    <tr style=\"text-align: right;\">\n",
       "      <th></th>\n",
       "      <th>L.NUMERO_DE_PAPILAS</th>\n",
       "    </tr>\n",
       "  </thead>\n",
       "  <tbody>\n",
       "    <tr>\n",
       "      <th>0</th>\n",
       "      <td>41</td>\n",
       "    </tr>\n",
       "    <tr>\n",
       "      <th>2</th>\n",
       "      <td>17</td>\n",
       "    </tr>\n",
       "    <tr>\n",
       "      <th>1</th>\n",
       "      <td>8</td>\n",
       "    </tr>\n",
       "    <tr>\n",
       "      <th>3</th>\n",
       "      <td>7</td>\n",
       "    </tr>\n",
       "    <tr>\n",
       "      <th>4</th>\n",
       "      <td>3</td>\n",
       "    </tr>\n",
       "  </tbody>\n",
       "</table>\n",
       "</div>"
      ],
      "text/plain": [
       "   L.NUMERO_DE_PAPILAS\n",
       "0                   41\n",
       "2                   17\n",
       "1                    8\n",
       "3                    7\n",
       "4                    3"
      ]
     },
     "metadata": {},
     "output_type": "display_data"
    },
    {
     "data": {
      "text/html": [
       "<div>\n",
       "<table border=\"1\" class=\"dataframe\">\n",
       "  <thead>\n",
       "    <tr style=\"text-align: right;\">\n",
       "      <th></th>\n",
       "      <th>L.PAPILAS</th>\n",
       "    </tr>\n",
       "  </thead>\n",
       "  <tbody>\n",
       "    <tr>\n",
       "      <th>NO</th>\n",
       "      <td>41</td>\n",
       "    </tr>\n",
       "    <tr>\n",
       "      <th>SI</th>\n",
       "      <td>35</td>\n",
       "    </tr>\n",
       "  </tbody>\n",
       "</table>\n",
       "</div>"
      ],
      "text/plain": [
       "    L.PAPILAS\n",
       "NO         41\n",
       "SI         35"
      ]
     },
     "metadata": {},
     "output_type": "display_data"
    },
    {
     "data": {
      "text/html": [
       "<div>\n",
       "<table border=\"1\" class=\"dataframe\">\n",
       "  <thead>\n",
       "    <tr style=\"text-align: right;\">\n",
       "      <th></th>\n",
       "      <th>M.COLOR</th>\n",
       "    </tr>\n",
       "  </thead>\n",
       "  <tbody>\n",
       "    <tr>\n",
       "      <th>OTROS</th>\n",
       "      <td>36</td>\n",
       "    </tr>\n",
       "    <tr>\n",
       "      <th>?</th>\n",
       "      <td>22</td>\n",
       "    </tr>\n",
       "    <tr>\n",
       "      <th>AMARILLO_PALIDO</th>\n",
       "      <td>17</td>\n",
       "    </tr>\n",
       "    <tr>\n",
       "      <th>AZUL_O_ANARANJADO_INTENSOS</th>\n",
       "      <td>1</td>\n",
       "    </tr>\n",
       "  </tbody>\n",
       "</table>\n",
       "</div>"
      ],
      "text/plain": [
       "                            M.COLOR \n",
       "OTROS                             36\n",
       "?                                 22\n",
       "AMARILLO_PALIDO                   17\n",
       "AZUL_O_ANARANJADO_INTENSOS         1"
      ]
     },
     "metadata": {},
     "output_type": "display_data"
    },
    {
     "data": {
      "text/html": [
       "<div>\n",
       "<table border=\"1\" class=\"dataframe\">\n",
       "  <thead>\n",
       "    <tr style=\"text-align: right;\">\n",
       "      <th></th>\n",
       "      <th>N.SUPERFICIE</th>\n",
       "    </tr>\n",
       "  </thead>\n",
       "  <tbody>\n",
       "    <tr>\n",
       "      <th>LISA</th>\n",
       "      <td>24</td>\n",
       "    </tr>\n",
       "    <tr>\n",
       "      <th>ATERCIOPELADA</th>\n",
       "      <td>14</td>\n",
       "    </tr>\n",
       "    <tr>\n",
       "      <th>TOTALMENTE_HISPIDA</th>\n",
       "      <td>10</td>\n",
       "    </tr>\n",
       "    <tr>\n",
       "      <th>SOLO_PAPILAS_LISAS</th>\n",
       "      <td>10</td>\n",
       "    </tr>\n",
       "    <tr>\n",
       "      <th>RUGOSA</th>\n",
       "      <td>9</td>\n",
       "    </tr>\n",
       "    <tr>\n",
       "      <th>HISPIDEZ_MAYOR_HACIA_LA_BASE</th>\n",
       "      <td>5</td>\n",
       "    </tr>\n",
       "    <tr>\n",
       "      <th>FRANJA_BASAL_DE_ESPICULAS_EN_FLECO</th>\n",
       "      <td>2</td>\n",
       "    </tr>\n",
       "    <tr>\n",
       "      <th>CON_AREAS_POLIGONALES_ABULTADAS</th>\n",
       "      <td>2</td>\n",
       "    </tr>\n",
       "  </tbody>\n",
       "</table>\n",
       "</div>"
      ],
      "text/plain": [
       "                                    N.SUPERFICIE\n",
       "LISA                                          24\n",
       "ATERCIOPELADA                                 14\n",
       "TOTALMENTE_HISPIDA                            10\n",
       "SOLO_PAPILAS_LISAS                            10\n",
       "RUGOSA                                         9\n",
       "HISPIDEZ_MAYOR_HACIA_LA_BASE                   5\n",
       "FRANJA_BASAL_DE_ESPICULAS_EN_FLECO             2\n",
       "CON_AREAS_POLIGONALES_ABULTADAS                2"
      ]
     },
     "metadata": {},
     "output_type": "display_data"
    },
    {
     "data": {
      "text/html": [
       "<div>\n",
       "<table border=\"1\" class=\"dataframe\">\n",
       "  <thead>\n",
       "    <tr style=\"text-align: right;\">\n",
       "      <th></th>\n",
       "      <th>O.DISPOSICION_ESPICULAR_ESQUELETO</th>\n",
       "    </tr>\n",
       "  </thead>\n",
       "  <tbody>\n",
       "    <tr>\n",
       "      <th>RADIAL</th>\n",
       "      <td>34</td>\n",
       "    </tr>\n",
       "    <tr>\n",
       "      <th>CONFUSA</th>\n",
       "      <td>12</td>\n",
       "    </tr>\n",
       "    <tr>\n",
       "      <th>HYMEDESMOIDE</th>\n",
       "      <td>10</td>\n",
       "    </tr>\n",
       "    <tr>\n",
       "      <th>RADIAL_EN_PERIFERIA</th>\n",
       "      <td>8</td>\n",
       "    </tr>\n",
       "    <tr>\n",
       "      <th>AXIAL</th>\n",
       "      <td>5</td>\n",
       "    </tr>\n",
       "    <tr>\n",
       "      <th>REDUCIDO</th>\n",
       "      <td>4</td>\n",
       "    </tr>\n",
       "    <tr>\n",
       "      <th>PLUMOSA</th>\n",
       "      <td>3</td>\n",
       "    </tr>\n",
       "  </tbody>\n",
       "</table>\n",
       "</div>"
      ],
      "text/plain": [
       "                     O.DISPOSICION_ESPICULAR_ESQUELETO\n",
       "RADIAL                                              34\n",
       "CONFUSA                                             12\n",
       "HYMEDESMOIDE                                        10\n",
       "RADIAL_EN_PERIFERIA                                  8\n",
       "AXIAL                                                5\n",
       "REDUCIDO                                             4\n",
       "PLUMOSA                                              3"
      ]
     },
     "metadata": {},
     "output_type": "display_data"
    },
    {
     "data": {
      "text/html": [
       "<div>\n",
       "<table border=\"1\" class=\"dataframe\">\n",
       "  <thead>\n",
       "    <tr style=\"text-align: right;\">\n",
       "      <th></th>\n",
       "      <th>P.ALOJA_CANGREJO_ERMITANO</th>\n",
       "    </tr>\n",
       "  </thead>\n",
       "  <tbody>\n",
       "    <tr>\n",
       "      <th>NO</th>\n",
       "      <td>74</td>\n",
       "    </tr>\n",
       "    <tr>\n",
       "      <th>SI</th>\n",
       "      <td>2</td>\n",
       "    </tr>\n",
       "  </tbody>\n",
       "</table>\n",
       "</div>"
      ],
      "text/plain": [
       "    P.ALOJA_CANGREJO_ERMITANO\n",
       "NO                         74\n",
       "SI                          2"
      ]
     },
     "metadata": {},
     "output_type": "display_data"
    },
    {
     "data": {
      "text/html": [
       "<div>\n",
       "<table border=\"1\" class=\"dataframe\">\n",
       "  <thead>\n",
       "    <tr style=\"text-align: right;\">\n",
       "      <th></th>\n",
       "      <th>P.PERFORANTE</th>\n",
       "    </tr>\n",
       "  </thead>\n",
       "  <tbody>\n",
       "    <tr>\n",
       "      <th>NO</th>\n",
       "      <td>70</td>\n",
       "    </tr>\n",
       "    <tr>\n",
       "      <th>SI</th>\n",
       "      <td>6</td>\n",
       "    </tr>\n",
       "  </tbody>\n",
       "</table>\n",
       "</div>"
      ],
      "text/plain": [
       "    P.PERFORANTE\n",
       "NO            70\n",
       "SI             6"
      ]
     },
     "metadata": {},
     "output_type": "display_data"
    },
    {
     "data": {
      "text/html": [
       "<div>\n",
       "<table border=\"1\" class=\"dataframe\">\n",
       "  <thead>\n",
       "    <tr style=\"text-align: right;\">\n",
       "      <th></th>\n",
       "      <th>P.PSEUDORAICES</th>\n",
       "    </tr>\n",
       "  </thead>\n",
       "  <tbody>\n",
       "    <tr>\n",
       "      <th>NO</th>\n",
       "      <td>72</td>\n",
       "    </tr>\n",
       "    <tr>\n",
       "      <th>SI</th>\n",
       "      <td>4</td>\n",
       "    </tr>\n",
       "  </tbody>\n",
       "</table>\n",
       "</div>"
      ],
      "text/plain": [
       "    P.PSEUDORAICES\n",
       "NO              72\n",
       "SI               4"
      ]
     },
     "metadata": {},
     "output_type": "display_data"
    },
    {
     "data": {
      "text/html": [
       "<div>\n",
       "<table border=\"1\" class=\"dataframe\">\n",
       "  <thead>\n",
       "    <tr style=\"text-align: right;\">\n",
       "      <th></th>\n",
       "      <th>P.SUSTRATO</th>\n",
       "    </tr>\n",
       "  </thead>\n",
       "  <tbody>\n",
       "    <tr>\n",
       "      <th>DURO</th>\n",
       "      <td>70</td>\n",
       "    </tr>\n",
       "    <tr>\n",
       "      <th>AMBOS</th>\n",
       "      <td>3</td>\n",
       "    </tr>\n",
       "    <tr>\n",
       "      <th>BLANDO</th>\n",
       "      <td>3</td>\n",
       "    </tr>\n",
       "  </tbody>\n",
       "</table>\n",
       "</div>"
      ],
      "text/plain": [
       "        P.SUSTRATO\n",
       "DURO            70\n",
       "AMBOS            3\n",
       "BLANDO           3"
      ]
     },
     "metadata": {},
     "output_type": "display_data"
    }
   ],
   "source": [
    "# Print counts \n",
    "for col in raw_data.columns:\n",
    "    if col != 'LABELS':\n",
    "        display(raw_data[col].value_counts(dropna=False).to_frame())"
   ]
  },
  {
   "cell_type": "markdown",
   "metadata": {},
   "source": [
    "### Preprocessing"
   ]
  },
  {
   "cell_type": "code",
   "execution_count": 8,
   "metadata": {
    "collapsed": false
   },
   "outputs": [
    {
     "name": "stdout",
     "output_type": "stream",
     "text": [
      "(76, 10)\n"
     ]
    },
    {
     "data": {
      "text/html": [
       "<div>\n",
       "<table border=\"1\" class=\"dataframe\">\n",
       "  <thead>\n",
       "    <tr style=\"text-align: right;\">\n",
       "      <th></th>\n",
       "      <th>LABELS</th>\n",
       "      <th>A.CAPAS_DEL_CORTEX</th>\n",
       "      <th>A.CAPA_INTERNA_DEL_CORTEX</th>\n",
       "      <th>A.CORTEX</th>\n",
       "      <th>A.CORTEX_FIBROSO</th>\n",
       "      <th>A.CORTEX_SOLO_DE_ESPICULAS_TANGENCIALES</th>\n",
       "      <th>A.CUERPOS_EXTRANOS_EN_EL_CORTEX</th>\n",
       "      <th>A.GROSOR_DEL_CORTEX</th>\n",
       "      <th>A.HACES_DE_ESPICULAS_PRINCIPALES_EN_POMPON_EN_EL_CORTEX</th>\n",
       "      <th>A.TILOSTILOS_ADICIONALES_COANOSOMA</th>\n",
       "    </tr>\n",
       "  </thead>\n",
       "  <tbody>\n",
       "    <tr>\n",
       "      <th>0</th>\n",
       "      <td>AAPTOS_AAPTOS</td>\n",
       "      <td>0</td>\n",
       "      <td>3</td>\n",
       "      <td>1</td>\n",
       "      <td>0</td>\n",
       "      <td>0</td>\n",
       "      <td>0</td>\n",
       "      <td>3</td>\n",
       "      <td>0</td>\n",
       "      <td>4</td>\n",
       "    </tr>\n",
       "  </tbody>\n",
       "</table>\n",
       "</div>"
      ],
      "text/plain": [
       "          LABELS  A.CAPAS_DEL_CORTEX  A.CAPA_INTERNA_DEL_CORTEX  A.CORTEX  \\\n",
       "0  AAPTOS_AAPTOS                   0                          3         1   \n",
       "\n",
       "   A.CORTEX_FIBROSO  A.CORTEX_SOLO_DE_ESPICULAS_TANGENCIALES  \\\n",
       "0                 0                                        0   \n",
       "\n",
       "   A.CUERPOS_EXTRANOS_EN_EL_CORTEX  A.GROSOR_DEL_CORTEX  \\\n",
       "0                                0                    3   \n",
       "\n",
       "   A.HACES_DE_ESPICULAS_PRINCIPALES_EN_POMPON_EN_EL_CORTEX  \\\n",
       "0                                                  0         \n",
       "\n",
       "   A.TILOSTILOS_ADICIONALES_COANOSOMA  \n",
       "0                                   4  "
      ]
     },
     "execution_count": 8,
     "metadata": {},
     "output_type": "execute_result"
    }
   ],
   "source": [
    "from sklearn import preprocessing\n",
    "\n",
    "#\n",
    "\n",
    "# Only use features that start with 'A.'\n",
    "A_cols = [col for col in col_names if col[:2]=='A.']\n",
    "test = raw_data.copy()[['LABELS']+A_cols]\n",
    "print(test.shape)\n",
    "test.head(0)\n",
    "\n",
    "#Dictionary container all label_encoders\n",
    "le_dict = {}\n",
    "# Label encoding\n",
    "for col in test.columns:\n",
    "    if col != 'LABELS':\n",
    "        le_name = col[2:]\n",
    "        le_dict[le_name] = preprocessing.LabelEncoder()\n",
    "        test[col] = le_dict[le_name].fit_transform(test[col].astype('str'))\n",
    "test.head(1)"
   ]
  },
  {
   "cell_type": "code",
   "execution_count": 9,
   "metadata": {
    "collapsed": false
   },
   "outputs": [
    {
     "name": "stdout",
     "output_type": "stream",
     "text": [
      "['ECTOSOMICOS_DISPERSOS' 'ECTOSOMICOS_EN_RAMILLETES' 'INTERMEDIARIOS'\n",
      " 'INTERMEDIARIOS_Y_ECTOSOMICOS' 'SIN_TILOSTILOS_ADICIONALES']\n",
      "['BANDAS_DE_ESPICULAS_CRUZADAS' 'MICROSCLERAS' 'PERPENDICULAR'\n",
      " 'SIN_CAPA_INTERNA_DEL_CORTEX' 'TANGENCIAL' 'TANGENCIAL_Y_PERPENDICULAR']\n",
      "['0' '1' '2' '3' '4']\n",
      "['NO' 'SI' 'SIN_CORTEX']\n",
      "['NO' 'SI']\n",
      "['NO' 'SI' 'SIN_CORTEX']\n",
      "['NO' 'SI']\n",
      "['1_CAPA' '2_CAPAS' '3_CAPAS' 'SIN_CORTEX']\n",
      "['NO' 'SI' 'SIN_CORTEX']\n"
     ]
    }
   ],
   "source": [
    "for key in le_dict.keys():\n",
    "    print(le_dict[key].classes_)"
   ]
  },
  {
   "cell_type": "markdown",
   "metadata": {
    "collapsed": false
   },
   "source": [
    "### Hierarchical Clustering "
   ]
  },
  {
   "cell_type": "code",
   "execution_count": 10,
   "metadata": {
    "collapsed": false
   },
   "outputs": [],
   "source": [
    "from sklearn.cluster import AgglomerativeClustering\n",
    "n_clusters = len(classes.keys())\n",
    "clustering_model = AgglomerativeClustering(n_clusters=n_clusters,linkage='ward')\n",
    "# fit on all columns except the labels\n",
    "clustering_model.fit(test[A_cols])\n",
    "# these are the predicted classes for each label\n",
    "predicted_classes = clustering_model.labels_"
   ]
  },
  {
   "cell_type": "code",
   "execution_count": 11,
   "metadata": {
    "collapsed": false
   },
   "outputs": [
    {
     "name": "stdout",
     "output_type": "stream",
     "text": [
      "76\n",
      "[ 2  7  7  7  7  7  2  7  7  7  7  7  6  1 11  8  4  9  4  8  1  9  3  9 11\n",
      " 11  1  3  1 11  8  4  1  7  7  7  4  7  7  0  0  0  7  7  7  7 10  1  1  6\n",
      "  7  7  6  2  7  7  7  7  7  7  2  2  7  5  5  7  7  7  7  7  6  2  2  3  1\n",
      " 10]\n"
     ]
    }
   ],
   "source": [
    "print(len(predicted_classes))\n",
    "print(predicted_classes)"
   ]
  },
  {
   "cell_type": "code",
   "execution_count": 12,
   "metadata": {
    "collapsed": false
   },
   "outputs": [],
   "source": [
    "test['P_CLASSES'] = predicted_classes"
   ]
  },
  {
   "cell_type": "code",
   "execution_count": 13,
   "metadata": {
    "collapsed": false
   },
   "outputs": [
    {
     "data": {
      "text/html": [
       "<div>\n",
       "<table border=\"1\" class=\"dataframe\">\n",
       "  <thead>\n",
       "    <tr style=\"text-align: right;\">\n",
       "      <th></th>\n",
       "      <th>LABELS</th>\n",
       "      <th>A.CAPAS_DEL_CORTEX</th>\n",
       "      <th>A.CAPA_INTERNA_DEL_CORTEX</th>\n",
       "      <th>A.CORTEX</th>\n",
       "      <th>A.CORTEX_FIBROSO</th>\n",
       "      <th>A.CORTEX_SOLO_DE_ESPICULAS_TANGENCIALES</th>\n",
       "      <th>A.CUERPOS_EXTRANOS_EN_EL_CORTEX</th>\n",
       "      <th>A.GROSOR_DEL_CORTEX</th>\n",
       "      <th>A.HACES_DE_ESPICULAS_PRINCIPALES_EN_POMPON_EN_EL_CORTEX</th>\n",
       "      <th>A.TILOSTILOS_ADICIONALES_COANOSOMA</th>\n",
       "      <th>P_CLASSES</th>\n",
       "    </tr>\n",
       "  </thead>\n",
       "  <tbody>\n",
       "    <tr>\n",
       "      <th>0</th>\n",
       "      <td>AAPTOS_AAPTOS</td>\n",
       "      <td>0</td>\n",
       "      <td>3</td>\n",
       "      <td>1</td>\n",
       "      <td>0</td>\n",
       "      <td>0</td>\n",
       "      <td>0</td>\n",
       "      <td>3</td>\n",
       "      <td>0</td>\n",
       "      <td>4</td>\n",
       "      <td>2</td>\n",
       "    </tr>\n",
       "  </tbody>\n",
       "</table>\n",
       "</div>"
      ],
      "text/plain": [
       "          LABELS  A.CAPAS_DEL_CORTEX  A.CAPA_INTERNA_DEL_CORTEX  A.CORTEX  \\\n",
       "0  AAPTOS_AAPTOS                   0                          3         1   \n",
       "\n",
       "   A.CORTEX_FIBROSO  A.CORTEX_SOLO_DE_ESPICULAS_TANGENCIALES  \\\n",
       "0                 0                                        0   \n",
       "\n",
       "   A.CUERPOS_EXTRANOS_EN_EL_CORTEX  A.GROSOR_DEL_CORTEX  \\\n",
       "0                                0                    3   \n",
       "\n",
       "   A.HACES_DE_ESPICULAS_PRINCIPALES_EN_POMPON_EN_EL_CORTEX  \\\n",
       "0                                                  0         \n",
       "\n",
       "   A.TILOSTILOS_ADICIONALES_COANOSOMA  P_CLASSES  \n",
       "0                                   4          2  "
      ]
     },
     "execution_count": 13,
     "metadata": {},
     "output_type": "execute_result"
    }
   ],
   "source": [
    "test.head(1)"
   ]
  },
  {
   "cell_type": "code",
   "execution_count": null,
   "metadata": {
    "collapsed": true
   },
   "outputs": [],
   "source": [
    "# Go through every row,\n",
    "# Check if current assignment matches conceptual clustering"
   ]
  },
  {
   "cell_type": "code",
   "execution_count": 14,
   "metadata": {
    "collapsed": true
   },
   "outputs": [],
   "source": [
    "from scipy.cluster import hierarchy\n"
   ]
  },
  {
   "cell_type": "code",
   "execution_count": null,
   "metadata": {
    "collapsed": true
   },
   "outputs": [],
   "source": []
  },
  {
   "cell_type": "code",
   "execution_count": 15,
   "metadata": {
    "collapsed": false
   },
   "outputs": [
    {
     "data": {
      "text/plain": [
       "array([[  0,  53],\n",
       "       [ 61,  76],\n",
       "       [ 14,  24],\n",
       "       [ 15,  19],\n",
       "       [ 28,  47],\n",
       "       [ 48,  80],\n",
       "       [ 39,  41],\n",
       "       [  1,   2],\n",
       "       [  3,  83],\n",
       "       [  4,  84],\n",
       "       [  5,  85],\n",
       "       [  7,  86],\n",
       "       [  8,  87],\n",
       "       [  9,  88],\n",
       "       [ 10,  89],\n",
       "       [ 11,  90],\n",
       "       [ 33,  91],\n",
       "       [ 34,  92],\n",
       "       [ 35,  93],\n",
       "       [ 37,  94],\n",
       "       [ 38,  95],\n",
       "       [ 42,  96],\n",
       "       [ 43,  97],\n",
       "       [ 44,  98],\n",
       "       [ 45,  99],\n",
       "       [ 50, 100],\n",
       "       [ 51, 101],\n",
       "       [ 54, 102],\n",
       "       [ 55, 103],\n",
       "       [ 56, 104],\n",
       "       [ 57, 105],\n",
       "       [ 58, 106],\n",
       "       [ 59, 107],\n",
       "       [ 62, 108],\n",
       "       [ 65, 109],\n",
       "       [ 66, 110],\n",
       "       [ 67, 111],\n",
       "       [ 68, 112],\n",
       "       [ 69, 113],\n",
       "       [ 12,  52],\n",
       "       [ 49,  70],\n",
       "       [ 60,  72],\n",
       "       [ 20,  26],\n",
       "       [ 46,  75],\n",
       "       [ 27,  73],\n",
       "       [ 17,  21],\n",
       "       [ 16,  31],\n",
       "       [ 30,  79],\n",
       "       [ 25,  78],\n",
       "       [ 13,  81],\n",
       "       [ 71, 117],\n",
       "       [ 74, 118],\n",
       "       [ 29, 124],\n",
       "       [ 23, 121],\n",
       "       [ 63,  64],\n",
       "       [ 18,  36],\n",
       "       [ 32, 127],\n",
       "       [  6,  77],\n",
       "       [115, 116],\n",
       "       [ 22, 120],\n",
       "       [122, 131],\n",
       "       [125, 132],\n",
       "       [126, 133],\n",
       "       [ 40,  82],\n",
       "       [128, 137],\n",
       "       [119, 134],\n",
       "       [129, 136],\n",
       "       [123, 130],\n",
       "       [135, 142],\n",
       "       [138, 143],\n",
       "       [140, 144],\n",
       "       [141, 145],\n",
       "       [139, 146],\n",
       "       [147, 148],\n",
       "       [114, 149]])"
      ]
     },
     "execution_count": 15,
     "metadata": {},
     "output_type": "execute_result"
    }
   ],
   "source": []
  },
  {
   "cell_type": "code",
   "execution_count": null,
   "metadata": {
    "collapsed": true
   },
   "outputs": [],
   "source": []
  }
 ],
 "metadata": {
  "anaconda-cloud": {},
  "kernelspec": {
   "display_name": "Python [conda env:py3]",
   "language": "python",
   "name": "conda-env-py3-py"
  },
  "language_info": {
   "codemirror_mode": {
    "name": "ipython",
    "version": 3
   },
   "file_extension": ".py",
   "mimetype": "text/x-python",
   "name": "python",
   "nbconvert_exporter": "python",
   "pygments_lexer": "ipython3",
   "version": "3.5.2"
  }
 },
 "nbformat": 4,
 "nbformat_minor": 1
}
